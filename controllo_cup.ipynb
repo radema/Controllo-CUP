{
 "cells": [
  {
   "cell_type": "code",
   "execution_count": 1,
   "metadata": {},
   "outputs": [],
   "source": [
    "import os\n",
    "import pandas as pd"
   ]
  },
  {
   "cell_type": "code",
   "execution_count": 7,
   "metadata": {},
   "outputs": [],
   "source": [
    "if 'data' not in os.listdir('.'):\n",
    "    os.mkdir('./data')\n",
    "\n",
    "if 'CUP' not in os.listdir('./data'):\n",
    "    os.mkdir('./data/CUP')"
   ]
  },
  {
   "cell_type": "markdown",
   "metadata": {},
   "source": [
    "# Input Data\n",
    "\n",
    "Come prerequisito per il controllo dei Codici CUP bisogna inserire nella cartella `data` i seguenti elementi:\n",
    "\n",
    "1. **Dati Opencoesione**: salvare l'estrazione dei dati OpenCoesione, in formato .zip, nella cartella 'data' [(vedi qui - link)](https://opencoesione.gov.it/it/opendata/progetti_esteso.zip)\n",
    "\n",
    "2. **Feedback DIPE**: salvare i file di feedback forniti dal DIPE nella cartella 'data/CUP'\n",
    "\n",
    "3. **Estrazione CUP**: salvare un'estrazione dei CUP da PAdigitale (dall'omonimo report Estrazione CUP) nella cartella 'data'"
   ]
  },
  {
   "cell_type": "code",
   "execution_count": 8,
   "metadata": {},
   "outputs": [],
   "source": [
    "opencoesione_filename = '<INSERIRE_FILENAME_OPENCOESIONE>.zip'\n",
    "\n",
    "dipe_feedback = 'CUP'\n",
    "\n",
    "list_cup_filename = '<INSERIRE_FILENAME_ESTRAZIONE>.xlsx'"
   ]
  },
  {
   "cell_type": "markdown",
   "metadata": {},
   "source": [
    "Le successive 3 celle importano i dati dalle sorgenti salvate nella cartella `data`"
   ]
  },
  {
   "cell_type": "code",
   "execution_count": null,
   "metadata": {},
   "outputs": [],
   "source": [
    "df_OC = pd.read_csv(\"data/\" + opencoesione_filename,\n",
    "                    compression=\"zip\",sep=\";\",quotechar='\"',\n",
    "                    low_memory=False,\n",
    "                    usecols=[\n",
    "                        \"COD_LOCALE_PROGETTO\",\n",
    "                        \"CUP\",\n",
    "                        \"OC_TITOLO_PROGETTO\",\n",
    "                        \"OC_DESCR_CICLO\",\n",
    "                        \"OC_COD_CICLO\",\n",
    "                        \"OC_TEMA_SINTETICO\",\n",
    "                        \"FONDO_COMUNITARIO\",\n",
    "                        \"OC_CODICE_PROGRAMMA\",\n",
    "                        \"OC_DESCRIZIONE_PROGRAMMA\",\n",
    "                        \"COD_STRUMENTO\",\n",
    "                        \"DESCR_STRUMENTO\",\n",
    "                        \"OC_STATO_FINANZIARIO\",\n",
    "                        \"OC_STATO_PROGETTO\",\n",
    "                        \"OC_STATO_PROCEDURALE\",\n",
    "                        ],header=0,\n",
    "                        )"
   ]
  },
  {
   "cell_type": "code",
   "execution_count": null,
   "metadata": {},
   "outputs": [],
   "source": [
    "print(\"\\nReading data from DIPE.\")\n",
    "\n",
    "\n",
    "DIRNAME = \"data/\" + dipe_feedback\n",
    "dfs = []\n",
    "lenghts = []\n",
    "for filename in os.listdir(DIRNAME):\n",
    "    if filename.endswith(\".xlsx\"):\n",
    "        with pd.ExcelFile(os.path.join(DIRNAME, filename)) as fl:\n",
    "            data = pd.read_excel(fl, sheet_name=0, header=0).copy()\n",
    "            dfs.append(data)\n",
    "            lenghts.append(len(data))\n",
    "df = pd.concat(dfs, axis=0, ignore_index=True).drop_duplicates()\n",
    "\n",
    "print(\"\\nCompleted!\\n\")"
   ]
  },
  {
   "cell_type": "code",
   "execution_count": null,
   "metadata": {},
   "outputs": [],
   "source": [
    "print(\"\\nReading data from SalesForce.\")\n",
    "\n",
    "with pd.ExcelFile(os.path.join(\"data\", list_cup_filepath)) as fl:\n",
    "    df_pad2026 = pd.read_excel(fl, sheet_name=0).copy()\n",
    "\n",
    "print(\"\\nCompleted!\\n\")"
   ]
  },
  {
   "cell_type": "markdown",
   "metadata": {},
   "source": [
    "# Preparazione Dati"
   ]
  },
  {
   "cell_type": "markdown",
   "metadata": {},
   "source": [
    "In questa sezione vengono effettuate alcune operazioni, molto semplici, di preparazione dei dati:\n",
    "1. Formatting dei nomi delle colonne\n",
    "2. Merging dei dataset\n",
    "3. Eliminazione dei CUP duplicati da OpenCoesione"
   ]
  },
  {
   "cell_type": "code",
   "execution_count": null,
   "metadata": {},
   "outputs": [],
   "source": [
    "col_list = df_pad2026.columns\n",
    "df_pad2026.columns = [col.upper().replace(\" \", \"_\") for col in col_list]\n",
    "\n",
    "tmp_df = df_pad2026.merge(df, on=\"CODICE_CUP\", how=\"left\").copy()\n",
    "assert len(tmp_df) == len(df_pad2026)\n",
    "df_OC = df_OC.drop_duplicates(subset=\"CUP\", keep=\"last\").copy()\n",
    "\n",
    "print(\"Checking CUP...\")"
   ]
  },
  {
   "cell_type": "markdown",
   "metadata": {},
   "source": [
    "## Controlli CUP"
   ]
  },
  {
   "cell_type": "markdown",
   "metadata": {},
   "source": [
    "Il codice fornito consiste di una serie di operazioni eseguite sul dataframe `tmp_df`. Di seguito è una spiegazione delle diverse operazioni:\n",
    "\n",
    "1. `DOUBLE_FUNDING_CUP`: Questa riga di codice esegue una merge tra la colonna \"CUP\" del dataframe `df_OC` e la colonna \"CODICE_CUP\" del dataframe `tmp_df`. Viene utilizzato un join interno (`how=\"inner\"`) e viene specificata la validazione \"1:m\" (`validate=\"1:m\"`). Infine, viene estratto l'array univoco dei valori della colonna \"CUP\" risultante dalla merge.\n",
    "\n",
    "2. `DOUBLE_REQUEST_CUP`: Questa riga di codice esegue una serie di operazioni sul dataframe `tmp_df`. Innanzitutto, viene raggruppato il dataframe per la colonna \"CODICE_CUP\". Successivamente, viene applicata una funzione di filtro che seleziona solo i gruppi con una lunghezza maggiore di 1. Quindi, i risultati vengono ordinati per la colonna \"CODICE_CUP\" e viene estratto l'array univoco dei valori della colonna \"CODICE_CUP\".\n",
    "\n",
    "3. `MISSING_CUP`: Questa riga di codice seleziona i valori univoci della colonna \"CODICE_CUP\" del dataframe `tmp_df` in cui la colonna \"STATO_PROGETTO\" è uguale a \"CUP INESISTENTE\".\n",
    "\n",
    "4. `MISSING_TEMPLATE`: Questa riga di codice seleziona i valori univoci della colonna \"CODICE_CUP\" del dataframe `tmp_df` in cui la colonna \"TEMPLATE\" è mancante (NaN).\n",
    "\n",
    "5. `map_sheet2template`: Questa riga di codice crea un dizionario che mappa i valori univoci della colonna \"NOME_DECRETO\" del dataframe `tmp_df` al valore moda della colonna \"TEMPLATE\" corrispondente.\n",
    "\n",
    "6. `WRONG_TEMPLATE`: Questa riga di codice seleziona i valori univoci della colonna \"CODICE_CUP\" del dataframe `tmp_df` in cui il valore della colonna \"NOME_DECRETO\" dopo la sostituzione con il dizionario `map_sheet2template` non corrisponde al valore della colonna \"TEMPLATE\".\n",
    "\n",
    "Queste operazioni sembrano essere finalizzate all'identificazione di determinati pattern o condizioni all'interno del dataframe `tmp_df`, come la presenza di doppie richieste di CUP, CUP mancanti, template mancanti o template errati."
   ]
  },
  {
   "cell_type": "code",
   "execution_count": null,
   "metadata": {},
   "outputs": [],
   "source": [
    "DOUBLE_FUNDING_CUP = pd.merge(\n",
    "    df_OC[\"CUP\"],\n",
    "    tmp_df[\"CODICE_CUP\"],\n",
    "    left_on=\"CUP\",\n",
    "    right_on=\"CODICE_CUP\",\n",
    "    how=\"inner\",\n",
    "    validate=\"1:m\",\n",
    "    ).CUP.unique()\n",
    "\n",
    "# CUP double project\n",
    "DOUBLE_REQUEST_CUP = (\n",
    "    tmp_df.groupby(by=\"CODICE_CUP\")\n",
    "    .filter(lambda x: len(x) > 1)\n",
    "    .sort_values(by=\"CODICE_CUP\")\n",
    "    .CODICE_CUP.unique()\n",
    "    )\n",
    "\n",
    "# CUP non esistente nei sistemi DIPE\n",
    "na_cup_condition = tmp_df.STATO_PROGETTO == \"CUP INESISTENTE\"\n",
    "MISSING_CUP = tmp_df[na_cup_condition].CODICE_CUP.unique()\n",
    "\n",
    "# Template mancante\n",
    "MISSING_TEMPLATE = tmp_df[tmp_df.TEMPLATE.isna()].CODICE_CUP.unique()\n",
    "\n",
    "# Template errato\n",
    "map_sheet2template = (\n",
    "    tmp_df[[\"NOME_DECRETO\", \"TEMPLATE\"]]\n",
    "    .groupby([\"NOME_DECRETO\"])\n",
    "    .TEMPLATE.agg(pd.Series.mode)\n",
    "    .to_dict()\n",
    "    )\n",
    "\n",
    "WRONG_TEMPLATE = []\n",
    "WRONG_TEMPLATE = tmp_df[\n",
    "    tmp_df.NOME_DECRETO.replace(map_sheet2template) != tmp_df.TEMPLATE\n",
    "    ].CODICE_CUP.unique()"
   ]
  },
  {
   "cell_type": "markdown",
   "metadata": {},
   "source": [
    "## Classificazione CUP"
   ]
  },
  {
   "cell_type": "code",
   "execution_count": 9,
   "metadata": {},
   "outputs": [],
   "source": [
    "def classify_CUP(CUP: str):\n",
    "    \"\"\"\n",
    "    Classifica il CUP in base a una scala di priorità.\n",
    "\n",
    "    Parameters:\n",
    "        CUP (str): Il codice CUP da classificare.\n",
    "\n",
    "    Returns:\n",
    "        str: La classificazione del CUP.\n",
    "    \"\"\"\n",
    "\n",
    "    if CUP in DOUBLE_FUNDING_CUP:\n",
    "        return \"CUP già presente in OPEN COESIONE\"\n",
    "    elif CUP in MISSING_CUP:\n",
    "        return \"CUP NON PRESENTE NEL FEEDBACK DIPE\"\n",
    "    elif CUP in DOUBLE_REQUEST_CUP:\n",
    "        return \"CUP PRESENTE IN PIU' CANDIDATURE\"\n",
    "    elif CUP in MISSING_TEMPLATE:\n",
    "        return \"TEMPLATE MANCANTE\"\n",
    "    elif CUP in WRONG_TEMPLATE:\n",
    "        return \"POSSIBILE TEMPLATE ERRATO\"\n",
    "    else:\n",
    "        return \"NESSUN PROBLEMA RISCONTRATO AL MOMENTO\""
   ]
  },
  {
   "cell_type": "markdown",
   "metadata": {},
   "source": [
    "# Salvataggio risultati"
   ]
  },
  {
   "cell_type": "markdown",
   "metadata": {},
   "source": [
    "Il codice fornito è finalizzato eseguire ad alcune operazioni di scrittura a partire da `tmp_df`. \n",
    "\n",
    "Di seguito è una spiegazione dell'obiettivo e del funzionamento del codice:\n",
    "\n",
    "1. `tmp_df[\"CLASSIFICAZIONE_ISSUE_CUP\"] = tmp_df.CODICE_CUP.apply(classify_CUP)`: Questa riga di codice crea una nuova colonna chiamata \"CLASSIFICAZIONE_ISSUE_CUP\" nel dataframe `tmp_df`. La colonna viene popolata applicando una funzione chiamata `classify_CUP` alla colonna \"CODICE_CUP\" esistente. La funzione `classify_CUP` sembra essere definita altrove nel codice e viene utilizzata per assegnare una classificazione a ciascun valore nella colonna \"CODICE_CUP\".\n",
    "\n",
    "2. `tmp_df.groupby(by=[\"CLASSIFICAZIONE_ISSUE_CUP\"]).CODICE_CUP.count().to_csv(\"data/KPI_aggregati.csv\", index=True)`: Questa riga di codice esegue un'operazione di raggruppamento sul dataframe `tmp_df` utilizzando la colonna \"CLASSIFICAZIONE_ISSUE_CUP\" come chiave di raggruppamento. Viene quindi calcolato il conteggio dei valori nella colonna \"CODICE_CUP\" per ciascun gruppo. Infine, i risultati vengono salvati in un file CSV chiamato \"KPI_aggregati.csv\" nella cartella \"data\".\n",
    "\n",
    "3. `tmp_df.to_excel(\"data/CUP_ANALYSIS.xlsx\", index=False)`: Questa riga di codice salva il dataframe `tmp_df` in un file Excel chiamato \"CUP_ANALYSIS.xlsx\" nella cartella \"data\". L'opzione `index=False` indica che l'indice del dataframe non deve essere incluso nel file Excel.\n",
    "\n",
    "L'obiettivo del codice sembra essere quello di eseguire alcune operazioni di analisi e aggregazione sui dati nel dataframe `tmp_df`, e quindi salvare i risultati in file CSV ed Excel nella cartella `data`."
   ]
  },
  {
   "cell_type": "code",
   "execution_count": null,
   "metadata": {},
   "outputs": [],
   "source": [
    "tmp_df[\"CLASSIFICAZIONE_ISSUE_CUP\"] = tmp_df.CODICE_CUP.apply(classify_CUP)\n",
    "\n",
    "print('Numero di CUP da tmp_df: ',tmp_df.CODICE_CUP.count())\n",
    "print('Numero di CUP di progetti da PAdigitale2026: ',len(df_pad2026))\n",
    "# crea aggregati\n",
    "tmp_df.groupby(by=[\"CLASSIFICAZIONE_ISSUE_CUP\"]).CODICE_CUP.count().to_csv(\n",
    "    \"data/KPI_aggregati.csv\", index=True\n",
    ")\n",
    "\n",
    "tmp_df.to_excel(\"data/CUP_ANALYSIS.xlsx\", index=False)"
   ]
  }
 ],
 "metadata": {
  "kernelspec": {
   "display_name": "controllo_cup",
   "language": "python",
   "name": "python3"
  },
  "language_info": {
   "codemirror_mode": {
    "name": "ipython",
    "version": 3
   },
   "file_extension": ".py",
   "mimetype": "text/x-python",
   "name": "python",
   "nbconvert_exporter": "python",
   "pygments_lexer": "ipython3",
   "version": "3.11.0"
  },
  "orig_nbformat": 4
 },
 "nbformat": 4,
 "nbformat_minor": 2
}
