{
 "cells": [
  {
   "cell_type": "code",
   "execution_count": 1,
   "metadata": {},
   "outputs": [],
   "source": [
    "import pandas as pd\n",
    "pd.options.display.max_columns = 200"
   ]
  },
  {
   "cell_type": "markdown",
   "metadata": {},
   "source": [
    "# Import Dati Sorgente\n",
    "Vengono importate le seguenti sorgenti dati:\n",
    "1. CUP con feedback dal DIPE e relativi template associati\n",
    "2. CUP scaricati da OpenCoesione [(vedi qui - link)](https://opencoesione.gov.it/it/progetti/?q=&selected_facets=is_pubblicato:0&selected_facets=is_pubblicato:1&selected_facets=is_pubblicato:2)"
   ]
  },
  {
   "cell_type": "code",
   "execution_count": 2,
   "metadata": {},
   "outputs": [
    {
     "name": "stdout",
     "output_type": "stream",
     "text": [
      "<class 'pandas.core.frame.DataFrame'>\n",
      "RangeIndex: 60343 entries, 0 to 60342\n",
      "Data columns (total 14 columns):\n",
      " #   Column                 Non-Null Count  Dtype         \n",
      "---  ------                 --------------  -----         \n",
      " 0   CODICE_CUP             60343 non-null  object        \n",
      " 1   SOGGETTO_TITOLARE      60343 non-null  object        \n",
      " 2   DATA_GENERAZIONE       60341 non-null  datetime64[ns]\n",
      " 3   TEMPLATE               60343 non-null  float64       \n",
      " 4   COPERTURA_FINANZIARIA  60343 non-null  object        \n",
      " 5   COSTO                  60343 non-null  float64       \n",
      " 6   FINANZIAMENTO          60343 non-null  float64       \n",
      " 7   DESCRIZIONE_AGGREGATA  60343 non-null  object        \n",
      " 8   NATURA                 60343 non-null  object        \n",
      " 9   TIPOLOGIA              60343 non-null  object        \n",
      " 10  SETTORE                60343 non-null  object        \n",
      " 11  SOTTOSETTORE           60343 non-null  object        \n",
      " 12  CATEGORIA              60343 non-null  object        \n",
      " 13  STATO_PROGETTO         60343 non-null  object        \n",
      "dtypes: datetime64[ns](1), float64(3), object(10)\n",
      "memory usage: 6.4+ MB\n",
      "None\n"
     ]
    }
   ],
   "source": [
    "#  xls_DIPE = pd.ExcelFile('../result/CUP_feedback.xlsx')\n",
    "xls_DIPE = pd.ExcelFile('../data/01_raw/Tutti i CUP al 20230322.xlsx')\n",
    "df = pd.read_excel(xls_DIPE, 'CUP ').iloc[:-2,:]\n",
    "print(df.info())\n",
    "df.to_parquet('../data/02_primary/CUP_feedback.xlsx')"
   ]
  },
  {
   "cell_type": "code",
   "execution_count": 3,
   "metadata": {},
   "outputs": [],
   "source": [
    "# xls_PAD2026 = pd.ExcelFile('../data/01_raw/Lista CUP/lista dtd.xlsx')\n",
    "# df_pad2026 = pd.read_excel(xls_PAD2026,'lista')\n",
    "# df.to_csv('../data/02_primary/CUP_PAD2026.csv')"
   ]
  },
  {
   "cell_type": "code",
   "execution_count": 4,
   "metadata": {},
   "outputs": [],
   "source": [
    "\n",
    "df_OC = pd.read_csv(\n",
    "    '../data/01_raw/progetti_OC.zip',\n",
    "    compression='zip', \n",
    "    sep=';',\n",
    "    quotechar='\"', \n",
    "    low_memory=False, \n",
    "    usecols=['COD_LOCALE_PROGETTO','CUP','OC_TITOLO_PROGETTO','OC_DESCR_CICLO','OC_COD_CICLO','OC_TEMA_SINTETICO','FONDO_COMUNITARIO','OC_CODICE_PROGRAMMA','OC_DESCRIZIONE_PROGRAMMA','COD_STRUMENTO','DESCR_STRUMENTO','OC_STATO_FINANZIARIO','OC_STATO_PROGETTO','OC_STATO_PROCEDURALE'],\n",
    "    header=0,\n",
    "    #nrows=10\n",
    "    )"
   ]
  },
  {
   "cell_type": "code",
   "execution_count": 5,
   "metadata": {},
   "outputs": [
    {
     "name": "stdout",
     "output_type": "stream",
     "text": [
      "<class 'pandas.core.frame.DataFrame'>\n",
      "RangeIndex: 26575 entries, 0 to 26574\n",
      "Data columns (total 3 columns):\n",
      " #   Column             Non-Null Count  Dtype \n",
      "---  ------             --------------  ----- \n",
      " 0   CODICE_CUP         26574 non-null  object\n",
      " 1   AVVISO             26575 non-null  object\n",
      " 2   STATO_CANDIDATURA  26575 non-null  object\n",
      "dtypes: object(3)\n",
      "memory usage: 623.0+ KB\n"
     ]
    }
   ],
   "source": [
    "df_pad2026 = pd.read_csv('../data/01_raw/LISTA_CUP_SF.csv') # estratto direttamente da Salesforce tramite query\n",
    "df_pad2026.columns = ['_','CODICE_CUP','__','AVVISO','STATO_CANDIDATURA']\n",
    "df_pad2026.drop(columns=['_','__'],  inplace = True)\n",
    "df_pad2026.info()"
   ]
  },
  {
   "cell_type": "code",
   "execution_count": 6,
   "metadata": {},
   "outputs": [
    {
     "data": {
      "text/html": [
       "<div>\n",
       "<style scoped>\n",
       "    .dataframe tbody tr th:only-of-type {\n",
       "        vertical-align: middle;\n",
       "    }\n",
       "\n",
       "    .dataframe tbody tr th {\n",
       "        vertical-align: top;\n",
       "    }\n",
       "\n",
       "    .dataframe thead th {\n",
       "        text-align: right;\n",
       "    }\n",
       "</style>\n",
       "<table border=\"1\" class=\"dataframe\">\n",
       "  <thead>\n",
       "    <tr style=\"text-align: right;\">\n",
       "      <th></th>\n",
       "      <th>CODICE_CUP</th>\n",
       "      <th>AVVISO</th>\n",
       "      <th>STATO_CANDIDATURA</th>\n",
       "    </tr>\n",
       "  </thead>\n",
       "  <tbody>\n",
       "    <tr>\n",
       "      <th>10787</th>\n",
       "      <td>D31F22004420006</td>\n",
       "      <td>1.4.5 \"Piattaforma Notifiche Digitali” Comuni ...</td>\n",
       "      <td>FINANZIATA</td>\n",
       "    </tr>\n",
       "    <tr>\n",
       "      <th>20516</th>\n",
       "      <td>D91F22003340006</td>\n",
       "      <td>1.2 Abilitazione al Cloud - Comuni - Luglio 2022</td>\n",
       "      <td>FINANZIATA</td>\n",
       "    </tr>\n",
       "    <tr>\n",
       "      <th>21777</th>\n",
       "      <td>F91F22002170006</td>\n",
       "      <td>1.4.3 - pagoPA - Comuni - Aprile 2022</td>\n",
       "      <td>FINANZIATA</td>\n",
       "    </tr>\n",
       "  </tbody>\n",
       "</table>\n",
       "</div>"
      ],
      "text/plain": [
       "            CODICE_CUP                                             AVVISO  \\\n",
       "10787  D31F22004420006  1.4.5 \"Piattaforma Notifiche Digitali” Comuni ...   \n",
       "20516  D91F22003340006   1.2 Abilitazione al Cloud - Comuni - Luglio 2022   \n",
       "21777  F91F22002170006              1.4.3 - pagoPA - Comuni - Aprile 2022   \n",
       "\n",
       "      STATO_CANDIDATURA  \n",
       "10787        FINANZIATA  \n",
       "20516        FINANZIATA  \n",
       "21777        FINANZIATA  "
      ]
     },
     "execution_count": 6,
     "metadata": {},
     "output_type": "execute_result"
    }
   ],
   "source": [
    "candidature_attive = df_pad2026.STATO_CANDIDATURA.isin(['ACCETTATA','FINANZIATA'])\n",
    "CUP_DUPLICATI = df_pad2026[candidature_attive].CODICE_CUP.duplicated()\n",
    "df_pad2026[candidature_attive][CUP_DUPLICATI]"
   ]
  },
  {
   "cell_type": "markdown",
   "metadata": {},
   "source": [
    "# Controlli da fare\n",
    "\n",
    "Di seguito vengono fatti i seguenti controlli, in ordine di priorità:\n",
    "\n",
    "1. CUP PNRR in OpenCoesione\n",
    "2. CUP duplicato nel PNRR\n",
    "3. CUP non esistente nei sistemi DIPE\n",
    "4. CUP senza template\n",
    "5. CUP template diverso\n"
   ]
  },
  {
   "cell_type": "code",
   "execution_count": 7,
   "metadata": {},
   "outputs": [],
   "source": [
    "# concateno dataset da OpenCoesione (OC)\n",
    "# df_OC = pd.concat([df_OC, df_OC2]).copy()\n",
    "\n",
    "df_OC = df_OC.drop_duplicates(subset='CUP',keep='last').copy()"
   ]
  },
  {
   "cell_type": "code",
   "execution_count": 8,
   "metadata": {},
   "outputs": [
    {
     "name": "stdout",
     "output_type": "stream",
     "text": [
      "1274053\n"
     ]
    }
   ],
   "source": [
    "print(df_OC.CUP.nunique())"
   ]
  },
  {
   "cell_type": "code",
   "execution_count": 9,
   "metadata": {},
   "outputs": [],
   "source": [
    "df_DIPE = pd.merge(df_pad2026,df, on = 'CODICE_CUP', how ='left')\n",
    "df_DIPE.loc[df_DIPE.STATO_PROGETTO.isna(),'STATO_PROGETTO'] = 'CUP INESISTENTE'"
   ]
  },
  {
   "cell_type": "code",
   "execution_count": 10,
   "metadata": {},
   "outputs": [],
   "source": [
    "df_DIPE['CUP'] = df_DIPE.CODICE_CUP"
   ]
  },
  {
   "cell_type": "code",
   "execution_count": 16,
   "metadata": {},
   "outputs": [
    {
     "data": {
      "text/plain": [
       "0        2203007.0\n",
       "1        2203007.0\n",
       "2        2203006.0\n",
       "3        2208001.0\n",
       "4        2208001.0\n",
       "           ...    \n",
       "26570    2203007.0\n",
       "26571    2203006.0\n",
       "26572    2210002.0\n",
       "26573    2203006.0\n",
       "26574    2203004.0\n",
       "Name: TEMPLATE, Length: 25846, dtype: float64"
      ]
     },
     "execution_count": 16,
     "metadata": {},
     "output_type": "execute_result"
    }
   ],
   "source": [
    "df_DIPE[df_DIPE.TEMPLATE.notna()].TEMPLATE"
   ]
  },
  {
   "cell_type": "code",
   "execution_count": 19,
   "metadata": {},
   "outputs": [],
   "source": [
    "# Primi check\n",
    "\n",
    "\n",
    "## CUP double funding\n",
    "DOUBLE_FUNDING_CUP = pd.merge( df_OC['CUP'], df_DIPE['CUP'], on = 'CUP',how='inner',validate=\"1:m\").CUP.unique()\n",
    "## CUP double project\n",
    "DOUBLE_REQUEST_CUP = df_DIPE.groupby(by = 'CUP').filter(lambda x: len(x)>1).sort_values(by='CUP').CUP.unique()\n",
    "## CUP non esistente nei sistemi DIPE\n",
    "MISSING_CUP = df_DIPE[df_DIPE.STATO_PROGETTO=='CUP INESISTENTE'].CUP.unique()\n",
    "## Template mancante\n",
    "MISSING_TEMPLATE = df_DIPE[df_DIPE.TEMPLATE.isna()].CUP.unique()\n",
    "#Template errato\n",
    "map_sheet2template = df_DIPE[(df_DIPE.TEMPLATE.notna())].groupby(by='AVVISO').TEMPLATE.agg(pd.Series.mode).to_dict()\n",
    "# map_sheet2template['1.4.4 Altri Enti FINESTRA_76'] = 20220511\n",
    "# map_sheet2template['1.4.3 Altri Enti App IOFINESTRA'] = 20220509\n",
    "# map_sheet2template[ '1.4.3 pagoPA Altri EntiFINESTRA'] = 20220510\n",
    "WRONG_TEMPLATE = [] \n",
    "WRONG_TEMPLATE = df_DIPE[df_DIPE.AVVISO.replace(map_sheet2template) != df_DIPE.TEMPLATE].CUP.unique()"
   ]
  },
  {
   "cell_type": "code",
   "execution_count": 21,
   "metadata": {},
   "outputs": [
    {
     "data": {
      "text/plain": [
       "1094"
      ]
     },
     "execution_count": 21,
     "metadata": {},
     "output_type": "execute_result"
    }
   ],
   "source": []
  },
  {
   "cell_type": "code",
   "execution_count": 25,
   "metadata": {},
   "outputs": [],
   "source": [
    "def classify_CUP(CUP: str):\n",
    "    '''\n",
    "    Funzione per produrre una semplice classificazione dei CUP secondo una scala di priorità:\n",
    "    1. CUP PNRR in OpenCoesione\n",
    "    2. CUP duplicato nel PNRR\n",
    "    3. CUP non esistente nei sistemi DIPE\n",
    "    4. CUP senza template\n",
    "    5. CUP template diverso\n",
    "    '''\n",
    "\n",
    "    if CUP in DOUBLE_FUNDING_CUP:\n",
    "        return 'CUP già presente in OPEN COESIONE'\n",
    "    elif CUP in MISSING_CUP:\n",
    "        return 'CUP NON PRESENTE NEL FEEDBACK DIPE'\n",
    "    elif CUP in DOUBLE_REQUEST_CUP:\n",
    "        return \"CUP PRESENTE IN PIU' CANDIDATURE\"\n",
    "    elif CUP in MISSING_TEMPLATE:\n",
    "        return 'TEMPLATE MANCANTE'\n",
    "    elif CUP in WRONG_TEMPLATE:\n",
    "        return 'TEMPLATE ERRATO'\n",
    "    else:\n",
    "        return 'NESSUN PROBLEMA RISCONTRATO AL MOMENTO'"
   ]
  },
  {
   "cell_type": "code",
   "execution_count": 26,
   "metadata": {},
   "outputs": [],
   "source": [
    "# applica classificazione\n",
    "df_DIPE['CLASSIFICAZIONE_ISSUE_CUP']  = df_DIPE.CUP.apply(classify_CUP)"
   ]
  },
  {
   "cell_type": "code",
   "execution_count": 27,
   "metadata": {},
   "outputs": [
    {
     "name": "stdout",
     "output_type": "stream",
     "text": [
      "26574\n"
     ]
    },
    {
     "data": {
      "text/plain": [
       "CLASSIFICAZIONE_ISSUE_CUP               STATO_CANDIDATURA\n",
       "CUP NON PRESENTE NEL FEEDBACK DIPE      FINANZIATA             638\n",
       "                                        RINUNCIATA              90\n",
       "CUP PRESENTE IN PIU' CANDIDATURE        FINANZIATA              34\n",
       "                                        RINUNCIATA              32\n",
       "NESSUN PROBLEMA RISCONTRATO AL MOMENTO  FINANZIATA           22948\n",
       "                                        RINUNCIATA            2469\n",
       "TEMPLATE ERRATO                         FINANZIATA             336\n",
       "                                        RINUNCIATA              27\n",
       "Name: CUP, dtype: int64"
      ]
     },
     "execution_count": 27,
     "metadata": {},
     "output_type": "execute_result"
    }
   ],
   "source": [
    "print(df_DIPE.CUP.count())\n",
    "#crea aggregati\n",
    "df_DIPE.groupby(by=['CLASSIFICAZIONE_ISSUE_CUP','STATO_CANDIDATURA']).CUP.count()"
   ]
  },
  {
   "cell_type": "code",
   "execution_count": 28,
   "metadata": {},
   "outputs": [
    {
     "data": {
      "text/plain": [
       "D31F22004420006     True\n",
       "F91F22002170006     True\n",
       "D91F22003340006     True\n",
       "J41F22002450006    False\n",
       "J21F22002490006    False\n",
       "J11F22002310006    False\n",
       "B51F22002130006    False\n",
       "B91C22001040006    False\n",
       "B61C22001070006    False\n",
       "D51F22002870006    False\n",
       "G21F22002260006    False\n",
       "C81F22002280006    False\n",
       "E91F22002250006    False\n",
       "G61F22002770006    False\n",
       "I31F22002770006    False\n",
       "B81F22002740006    False\n",
       "D81F22002430006    False\n",
       "F61F22002080006    False\n",
       "E31C22001360006    False\n",
       "D81F22002440006    False\n",
       "F61F22002320006    False\n",
       "J41F22002440006    False\n",
       "B51F22002330006    False\n",
       "B71F22002310006    False\n",
       "H61C22001120006    False\n",
       "H41C22000980006    False\n",
       "J71C22000960006    False\n",
       "C51F22002010006    False\n",
       "H61C22001090006    False\n",
       "I71F22002100006    False\n",
       "J51F22002080006    False\n",
       "Name: CUP, dtype: bool"
      ]
     },
     "execution_count": 28,
     "metadata": {},
     "output_type": "execute_result"
    }
   ],
   "source": [
    "df_DIPE[(df_DIPE.CLASSIFICAZIONE_ISSUE_CUP == \"CUP PRESENTE IN PIU' CANDIDATURE\")&(df_DIPE.STATO_CANDIDATURA=='FINANZIATA')].CUP.value_counts()>1\n",
    "# GIà SANATO\n",
    "# eventualmente approfondire"
   ]
  },
  {
   "cell_type": "code",
   "execution_count": 29,
   "metadata": {},
   "outputs": [
    {
     "data": {
      "text/plain": [
       "[]"
      ]
     },
     "execution_count": 29,
     "metadata": {},
     "output_type": "execute_result"
    }
   ],
   "source": [
    "df_DIPE[(df_DIPE.CLASSIFICAZIONE_ISSUE_CUP == \"CUP già presente in OPEN COESIONE\")].SOGGETTO_TITOLARE.to_list()\n",
    "# "
   ]
  },
  {
   "cell_type": "code",
   "execution_count": 30,
   "metadata": {},
   "outputs": [
    {
     "data": {
      "text/html": [
       "<div>\n",
       "<style scoped>\n",
       "    .dataframe tbody tr th:only-of-type {\n",
       "        vertical-align: middle;\n",
       "    }\n",
       "\n",
       "    .dataframe tbody tr th {\n",
       "        vertical-align: top;\n",
       "    }\n",
       "\n",
       "    .dataframe thead th {\n",
       "        text-align: right;\n",
       "    }\n",
       "</style>\n",
       "<table border=\"1\" class=\"dataframe\">\n",
       "  <thead>\n",
       "    <tr style=\"text-align: right;\">\n",
       "      <th></th>\n",
       "      <th>CODICE_CUP</th>\n",
       "      <th>AVVISO</th>\n",
       "      <th>STATO_CANDIDATURA</th>\n",
       "      <th>SOGGETTO_TITOLARE</th>\n",
       "      <th>DATA_GENERAZIONE</th>\n",
       "      <th>TEMPLATE</th>\n",
       "      <th>COPERTURA_FINANZIARIA</th>\n",
       "      <th>COSTO</th>\n",
       "      <th>FINANZIAMENTO</th>\n",
       "      <th>DESCRIZIONE_AGGREGATA</th>\n",
       "      <th>NATURA</th>\n",
       "      <th>TIPOLOGIA</th>\n",
       "      <th>SETTORE</th>\n",
       "      <th>SOTTOSETTORE</th>\n",
       "      <th>CATEGORIA</th>\n",
       "      <th>STATO_PROGETTO</th>\n",
       "      <th>CUP</th>\n",
       "      <th>CLASSIFICAZIONE_ISSUE_CUP</th>\n",
       "    </tr>\n",
       "  </thead>\n",
       "  <tbody>\n",
       "  </tbody>\n",
       "</table>\n",
       "</div>"
      ],
      "text/plain": [
       "Empty DataFrame\n",
       "Columns: [CODICE_CUP, AVVISO, STATO_CANDIDATURA, SOGGETTO_TITOLARE, DATA_GENERAZIONE, TEMPLATE, COPERTURA_FINANZIARIA, COSTO, FINANZIAMENTO, DESCRIZIONE_AGGREGATA, NATURA, TIPOLOGIA, SETTORE, SOTTOSETTORE, CATEGORIA, STATO_PROGETTO, CUP, CLASSIFICAZIONE_ISSUE_CUP]\n",
       "Index: []"
      ]
     },
     "execution_count": 30,
     "metadata": {},
     "output_type": "execute_result"
    }
   ],
   "source": [
    "df_DIPE[df_DIPE.CLASSIFICAZIONE_ISSUE_CUP == \"CUP già presente in OPEN COESIONE\"]"
   ]
  },
  {
   "cell_type": "code",
   "execution_count": 31,
   "metadata": {},
   "outputs": [
    {
     "data": {
      "text/html": [
       "<div>\n",
       "<style scoped>\n",
       "    .dataframe tbody tr th:only-of-type {\n",
       "        vertical-align: middle;\n",
       "    }\n",
       "\n",
       "    .dataframe tbody tr th {\n",
       "        vertical-align: top;\n",
       "    }\n",
       "\n",
       "    .dataframe thead th {\n",
       "        text-align: right;\n",
       "    }\n",
       "</style>\n",
       "<table border=\"1\" class=\"dataframe\">\n",
       "  <thead>\n",
       "    <tr style=\"text-align: right;\">\n",
       "      <th></th>\n",
       "      <th>CODICE_CUP</th>\n",
       "      <th>AVVISO</th>\n",
       "      <th>STATO_CANDIDATURA</th>\n",
       "      <th>SOGGETTO_TITOLARE</th>\n",
       "      <th>DATA_GENERAZIONE</th>\n",
       "      <th>TEMPLATE</th>\n",
       "      <th>COPERTURA_FINANZIARIA</th>\n",
       "      <th>COSTO</th>\n",
       "      <th>FINANZIAMENTO</th>\n",
       "      <th>DESCRIZIONE_AGGREGATA</th>\n",
       "      <th>NATURA</th>\n",
       "      <th>TIPOLOGIA</th>\n",
       "      <th>SETTORE</th>\n",
       "      <th>SOTTOSETTORE</th>\n",
       "      <th>CATEGORIA</th>\n",
       "      <th>STATO_PROGETTO</th>\n",
       "      <th>CUP</th>\n",
       "      <th>CLASSIFICAZIONE_ISSUE_CUP</th>\n",
       "    </tr>\n",
       "  </thead>\n",
       "  <tbody>\n",
       "    <tr>\n",
       "      <th>84</th>\n",
       "      <td>C71C22001500001</td>\n",
       "      <td>1.4.5 \"Piattaforma Notifiche Digitali” Comuni ...</td>\n",
       "      <td>FINANZIATA</td>\n",
       "      <td>NaN</td>\n",
       "      <td>NaT</td>\n",
       "      <td>NaN</td>\n",
       "      <td>NaN</td>\n",
       "      <td>NaN</td>\n",
       "      <td>NaN</td>\n",
       "      <td>NaN</td>\n",
       "      <td>NaN</td>\n",
       "      <td>NaN</td>\n",
       "      <td>NaN</td>\n",
       "      <td>NaN</td>\n",
       "      <td>NaN</td>\n",
       "      <td>CUP INESISTENTE</td>\n",
       "      <td>C71C22001500001</td>\n",
       "      <td>CUP NON PRESENTE NEL FEEDBACK DIPE</td>\n",
       "    </tr>\n",
       "    <tr>\n",
       "      <th>159</th>\n",
       "      <td>E81C22001890001</td>\n",
       "      <td>1.4.1 Esperienza del Cittadino - Scuole - Giug...</td>\n",
       "      <td>FINANZIATA</td>\n",
       "      <td>NaN</td>\n",
       "      <td>NaT</td>\n",
       "      <td>NaN</td>\n",
       "      <td>NaN</td>\n",
       "      <td>NaN</td>\n",
       "      <td>NaN</td>\n",
       "      <td>NaN</td>\n",
       "      <td>NaN</td>\n",
       "      <td>NaN</td>\n",
       "      <td>NaN</td>\n",
       "      <td>NaN</td>\n",
       "      <td>NaN</td>\n",
       "      <td>CUP INESISTENTE</td>\n",
       "      <td>E81C22001890001</td>\n",
       "      <td>CUP NON PRESENTE NEL FEEDBACK DIPE</td>\n",
       "    </tr>\n",
       "    <tr>\n",
       "      <th>170</th>\n",
       "      <td>D21C22001610005</td>\n",
       "      <td>1.3.1 Piattaforma Digitale Nazionale Dati - Co...</td>\n",
       "      <td>FINANZIATA</td>\n",
       "      <td>NaN</td>\n",
       "      <td>NaT</td>\n",
       "      <td>NaN</td>\n",
       "      <td>NaN</td>\n",
       "      <td>NaN</td>\n",
       "      <td>NaN</td>\n",
       "      <td>NaN</td>\n",
       "      <td>NaN</td>\n",
       "      <td>NaN</td>\n",
       "      <td>NaN</td>\n",
       "      <td>NaN</td>\n",
       "      <td>NaN</td>\n",
       "      <td>CUP INESISTENTE</td>\n",
       "      <td>D21C22001610005</td>\n",
       "      <td>CUP NON PRESENTE NEL FEEDBACK DIPE</td>\n",
       "    </tr>\n",
       "    <tr>\n",
       "      <th>176</th>\n",
       "      <td>D11J22000160001</td>\n",
       "      <td>1.4.1 Esperienza del Cittadino - Scuole - Giug...</td>\n",
       "      <td>FINANZIATA</td>\n",
       "      <td>NaN</td>\n",
       "      <td>NaT</td>\n",
       "      <td>NaN</td>\n",
       "      <td>NaN</td>\n",
       "      <td>NaN</td>\n",
       "      <td>NaN</td>\n",
       "      <td>NaN</td>\n",
       "      <td>NaN</td>\n",
       "      <td>NaN</td>\n",
       "      <td>NaN</td>\n",
       "      <td>NaN</td>\n",
       "      <td>NaN</td>\n",
       "      <td>CUP INESISTENTE</td>\n",
       "      <td>D11J22000160001</td>\n",
       "      <td>CUP NON PRESENTE NEL FEEDBACK DIPE</td>\n",
       "    </tr>\n",
       "    <tr>\n",
       "      <th>182</th>\n",
       "      <td>E81C22001880001</td>\n",
       "      <td>1.2 Abilitazione al Cloud - Scuole - Giugno 2022</td>\n",
       "      <td>FINANZIATA</td>\n",
       "      <td>NaN</td>\n",
       "      <td>NaT</td>\n",
       "      <td>NaN</td>\n",
       "      <td>NaN</td>\n",
       "      <td>NaN</td>\n",
       "      <td>NaN</td>\n",
       "      <td>NaN</td>\n",
       "      <td>NaN</td>\n",
       "      <td>NaN</td>\n",
       "      <td>NaN</td>\n",
       "      <td>NaN</td>\n",
       "      <td>NaN</td>\n",
       "      <td>CUP INESISTENTE</td>\n",
       "      <td>E81C22001880001</td>\n",
       "      <td>CUP NON PRESENTE NEL FEEDBACK DIPE</td>\n",
       "    </tr>\n",
       "    <tr>\n",
       "      <th>...</th>\n",
       "      <td>...</td>\n",
       "      <td>...</td>\n",
       "      <td>...</td>\n",
       "      <td>...</td>\n",
       "      <td>...</td>\n",
       "      <td>...</td>\n",
       "      <td>...</td>\n",
       "      <td>...</td>\n",
       "      <td>...</td>\n",
       "      <td>...</td>\n",
       "      <td>...</td>\n",
       "      <td>...</td>\n",
       "      <td>...</td>\n",
       "      <td>...</td>\n",
       "      <td>...</td>\n",
       "      <td>...</td>\n",
       "      <td>...</td>\n",
       "      <td>...</td>\n",
       "    </tr>\n",
       "    <tr>\n",
       "      <th>26232</th>\n",
       "      <td>E21H22000060005</td>\n",
       "      <td>1.4.4 Adozione SPID CIE-Amministrazioni divers...</td>\n",
       "      <td>FINANZIATA</td>\n",
       "      <td>NaN</td>\n",
       "      <td>NaT</td>\n",
       "      <td>NaN</td>\n",
       "      <td>NaN</td>\n",
       "      <td>NaN</td>\n",
       "      <td>NaN</td>\n",
       "      <td>NaN</td>\n",
       "      <td>NaN</td>\n",
       "      <td>NaN</td>\n",
       "      <td>NaN</td>\n",
       "      <td>NaN</td>\n",
       "      <td>NaN</td>\n",
       "      <td>CUP INESISTENTE</td>\n",
       "      <td>E21H22000060005</td>\n",
       "      <td>CUP NON PRESENTE NEL FEEDBACK DIPE</td>\n",
       "    </tr>\n",
       "    <tr>\n",
       "      <th>26267</th>\n",
       "      <td>D21H22000120005</td>\n",
       "      <td>1.4.4 Adozione SPID CIE-Amministrazioni divers...</td>\n",
       "      <td>FINANZIATA</td>\n",
       "      <td>NaN</td>\n",
       "      <td>NaT</td>\n",
       "      <td>NaN</td>\n",
       "      <td>NaN</td>\n",
       "      <td>NaN</td>\n",
       "      <td>NaN</td>\n",
       "      <td>NaN</td>\n",
       "      <td>NaN</td>\n",
       "      <td>NaN</td>\n",
       "      <td>NaN</td>\n",
       "      <td>NaN</td>\n",
       "      <td>NaN</td>\n",
       "      <td>CUP INESISTENTE</td>\n",
       "      <td>D21H22000120005</td>\n",
       "      <td>CUP NON PRESENTE NEL FEEDBACK DIPE</td>\n",
       "    </tr>\n",
       "    <tr>\n",
       "      <th>26306</th>\n",
       "      <td>I11J22000090006</td>\n",
       "      <td>1.4.4 Adozione SPID CIE  - Comuni - Settembre ...</td>\n",
       "      <td>FINANZIATA</td>\n",
       "      <td>NaN</td>\n",
       "      <td>NaT</td>\n",
       "      <td>NaN</td>\n",
       "      <td>NaN</td>\n",
       "      <td>NaN</td>\n",
       "      <td>NaN</td>\n",
       "      <td>NaN</td>\n",
       "      <td>NaN</td>\n",
       "      <td>NaN</td>\n",
       "      <td>NaN</td>\n",
       "      <td>NaN</td>\n",
       "      <td>NaN</td>\n",
       "      <td>CUP INESISTENTE</td>\n",
       "      <td>I11J22000090006</td>\n",
       "      <td>CUP NON PRESENTE NEL FEEDBACK DIPE</td>\n",
       "    </tr>\n",
       "    <tr>\n",
       "      <th>26317</th>\n",
       "      <td>H77H22002430001</td>\n",
       "      <td>1.4.3 - app IO - Altri Enti - Maggio 2022</td>\n",
       "      <td>FINANZIATA</td>\n",
       "      <td>NaN</td>\n",
       "      <td>NaT</td>\n",
       "      <td>NaN</td>\n",
       "      <td>NaN</td>\n",
       "      <td>NaN</td>\n",
       "      <td>NaN</td>\n",
       "      <td>NaN</td>\n",
       "      <td>NaN</td>\n",
       "      <td>NaN</td>\n",
       "      <td>NaN</td>\n",
       "      <td>NaN</td>\n",
       "      <td>NaN</td>\n",
       "      <td>CUP INESISTENTE</td>\n",
       "      <td>H77H22002430001</td>\n",
       "      <td>CUP NON PRESENTE NEL FEEDBACK DIPE</td>\n",
       "    </tr>\n",
       "    <tr>\n",
       "      <th>26391</th>\n",
       "      <td>G91C22001580006</td>\n",
       "      <td>1.3.1 Piattaforma Digitale Nazionale Dati - Co...</td>\n",
       "      <td>FINANZIATA</td>\n",
       "      <td>NaN</td>\n",
       "      <td>NaT</td>\n",
       "      <td>NaN</td>\n",
       "      <td>NaN</td>\n",
       "      <td>NaN</td>\n",
       "      <td>NaN</td>\n",
       "      <td>NaN</td>\n",
       "      <td>NaN</td>\n",
       "      <td>NaN</td>\n",
       "      <td>NaN</td>\n",
       "      <td>NaN</td>\n",
       "      <td>NaN</td>\n",
       "      <td>CUP INESISTENTE</td>\n",
       "      <td>G91C22001580006</td>\n",
       "      <td>CUP NON PRESENTE NEL FEEDBACK DIPE</td>\n",
       "    </tr>\n",
       "  </tbody>\n",
       "</table>\n",
       "<p>638 rows × 18 columns</p>\n",
       "</div>"
      ],
      "text/plain": [
       "            CODICE_CUP                                             AVVISO  \\\n",
       "84     C71C22001500001  1.4.5 \"Piattaforma Notifiche Digitali” Comuni ...   \n",
       "159    E81C22001890001  1.4.1 Esperienza del Cittadino - Scuole - Giug...   \n",
       "170    D21C22001610005  1.3.1 Piattaforma Digitale Nazionale Dati - Co...   \n",
       "176    D11J22000160001  1.4.1 Esperienza del Cittadino - Scuole - Giug...   \n",
       "182    E81C22001880001   1.2 Abilitazione al Cloud - Scuole - Giugno 2022   \n",
       "...                ...                                                ...   \n",
       "26232  E21H22000060005  1.4.4 Adozione SPID CIE-Amministrazioni divers...   \n",
       "26267  D21H22000120005  1.4.4 Adozione SPID CIE-Amministrazioni divers...   \n",
       "26306  I11J22000090006  1.4.4 Adozione SPID CIE  - Comuni - Settembre ...   \n",
       "26317  H77H22002430001          1.4.3 - app IO - Altri Enti - Maggio 2022   \n",
       "26391  G91C22001580006  1.3.1 Piattaforma Digitale Nazionale Dati - Co...   \n",
       "\n",
       "      STATO_CANDIDATURA SOGGETTO_TITOLARE DATA_GENERAZIONE  TEMPLATE  \\\n",
       "84           FINANZIATA               NaN              NaT       NaN   \n",
       "159          FINANZIATA               NaN              NaT       NaN   \n",
       "170          FINANZIATA               NaN              NaT       NaN   \n",
       "176          FINANZIATA               NaN              NaT       NaN   \n",
       "182          FINANZIATA               NaN              NaT       NaN   \n",
       "...                 ...               ...              ...       ...   \n",
       "26232        FINANZIATA               NaN              NaT       NaN   \n",
       "26267        FINANZIATA               NaN              NaT       NaN   \n",
       "26306        FINANZIATA               NaN              NaT       NaN   \n",
       "26317        FINANZIATA               NaN              NaT       NaN   \n",
       "26391        FINANZIATA               NaN              NaT       NaN   \n",
       "\n",
       "      COPERTURA_FINANZIARIA  COSTO  FINANZIAMENTO DESCRIZIONE_AGGREGATA  \\\n",
       "84                      NaN    NaN            NaN                   NaN   \n",
       "159                     NaN    NaN            NaN                   NaN   \n",
       "170                     NaN    NaN            NaN                   NaN   \n",
       "176                     NaN    NaN            NaN                   NaN   \n",
       "182                     NaN    NaN            NaN                   NaN   \n",
       "...                     ...    ...            ...                   ...   \n",
       "26232                   NaN    NaN            NaN                   NaN   \n",
       "26267                   NaN    NaN            NaN                   NaN   \n",
       "26306                   NaN    NaN            NaN                   NaN   \n",
       "26317                   NaN    NaN            NaN                   NaN   \n",
       "26391                   NaN    NaN            NaN                   NaN   \n",
       "\n",
       "      NATURA TIPOLOGIA SETTORE SOTTOSETTORE CATEGORIA   STATO_PROGETTO  \\\n",
       "84       NaN       NaN     NaN          NaN       NaN  CUP INESISTENTE   \n",
       "159      NaN       NaN     NaN          NaN       NaN  CUP INESISTENTE   \n",
       "170      NaN       NaN     NaN          NaN       NaN  CUP INESISTENTE   \n",
       "176      NaN       NaN     NaN          NaN       NaN  CUP INESISTENTE   \n",
       "182      NaN       NaN     NaN          NaN       NaN  CUP INESISTENTE   \n",
       "...      ...       ...     ...          ...       ...              ...   \n",
       "26232    NaN       NaN     NaN          NaN       NaN  CUP INESISTENTE   \n",
       "26267    NaN       NaN     NaN          NaN       NaN  CUP INESISTENTE   \n",
       "26306    NaN       NaN     NaN          NaN       NaN  CUP INESISTENTE   \n",
       "26317    NaN       NaN     NaN          NaN       NaN  CUP INESISTENTE   \n",
       "26391    NaN       NaN     NaN          NaN       NaN  CUP INESISTENTE   \n",
       "\n",
       "                   CUP           CLASSIFICAZIONE_ISSUE_CUP  \n",
       "84     C71C22001500001  CUP NON PRESENTE NEL FEEDBACK DIPE  \n",
       "159    E81C22001890001  CUP NON PRESENTE NEL FEEDBACK DIPE  \n",
       "170    D21C22001610005  CUP NON PRESENTE NEL FEEDBACK DIPE  \n",
       "176    D11J22000160001  CUP NON PRESENTE NEL FEEDBACK DIPE  \n",
       "182    E81C22001880001  CUP NON PRESENTE NEL FEEDBACK DIPE  \n",
       "...                ...                                 ...  \n",
       "26232  E21H22000060005  CUP NON PRESENTE NEL FEEDBACK DIPE  \n",
       "26267  D21H22000120005  CUP NON PRESENTE NEL FEEDBACK DIPE  \n",
       "26306  I11J22000090006  CUP NON PRESENTE NEL FEEDBACK DIPE  \n",
       "26317  H77H22002430001  CUP NON PRESENTE NEL FEEDBACK DIPE  \n",
       "26391  G91C22001580006  CUP NON PRESENTE NEL FEEDBACK DIPE  \n",
       "\n",
       "[638 rows x 18 columns]"
      ]
     },
     "execution_count": 31,
     "metadata": {},
     "output_type": "execute_result"
    }
   ],
   "source": [
    "df_DIPE[(df_DIPE.CLASSIFICAZIONE_ISSUE_CUP=='CUP NON PRESENTE NEL FEEDBACK DIPE')&(df_DIPE.STATO_CANDIDATURA!='RINUNCIATA')]"
   ]
  },
  {
   "cell_type": "code",
   "execution_count": 34,
   "metadata": {},
   "outputs": [
    {
     "data": {
      "text/html": [
       "<div>\n",
       "<style scoped>\n",
       "    .dataframe tbody tr th:only-of-type {\n",
       "        vertical-align: middle;\n",
       "    }\n",
       "\n",
       "    .dataframe tbody tr th {\n",
       "        vertical-align: top;\n",
       "    }\n",
       "\n",
       "    .dataframe thead th {\n",
       "        text-align: right;\n",
       "    }\n",
       "</style>\n",
       "<table border=\"1\" class=\"dataframe\">\n",
       "  <thead>\n",
       "    <tr style=\"text-align: right;\">\n",
       "      <th></th>\n",
       "      <th>CODICE_CUP</th>\n",
       "      <th>SOGGETTO_TITOLARE</th>\n",
       "      <th>DATA_GENERAZIONE</th>\n",
       "      <th>TEMPLATE</th>\n",
       "      <th>COPERTURA_FINANZIARIA</th>\n",
       "      <th>COSTO</th>\n",
       "      <th>FINANZIAMENTO</th>\n",
       "      <th>DESCRIZIONE_AGGREGATA</th>\n",
       "      <th>NATURA</th>\n",
       "      <th>TIPOLOGIA</th>\n",
       "      <th>SETTORE</th>\n",
       "      <th>SOTTOSETTORE</th>\n",
       "      <th>CATEGORIA</th>\n",
       "      <th>STATO_PROGETTO</th>\n",
       "    </tr>\n",
       "  </thead>\n",
       "  <tbody>\n",
       "  </tbody>\n",
       "</table>\n",
       "</div>"
      ],
      "text/plain": [
       "Empty DataFrame\n",
       "Columns: [CODICE_CUP, SOGGETTO_TITOLARE, DATA_GENERAZIONE, TEMPLATE, COPERTURA_FINANZIARIA, COSTO, FINANZIAMENTO, DESCRIZIONE_AGGREGATA, NATURA, TIPOLOGIA, SETTORE, SOTTOSETTORE, CATEGORIA, STATO_PROGETTO]\n",
       "Index: []"
      ]
     },
     "execution_count": 34,
     "metadata": {},
     "output_type": "execute_result"
    }
   ],
   "source": [
    "df[df['CODICE_CUP']=='C71C22001500001']"
   ]
  },
  {
   "cell_type": "code",
   "execution_count": 36,
   "metadata": {},
   "outputs": [],
   "source": [
    "df_DIPE.to_csv('../data/02_primary/CUP_analysis.csv', sep=\";\", quoting=1, index=False)"
   ]
  },
  {
   "cell_type": "code",
   "execution_count": null,
   "metadata": {},
   "outputs": [],
   "source": []
  }
 ],
 "metadata": {
  "kernelspec": {
   "display_name": "Python 3.9.12 ('base')",
   "language": "python",
   "name": "python3"
  },
  "language_info": {
   "codemirror_mode": {
    "name": "ipython",
    "version": 3
   },
   "file_extension": ".py",
   "mimetype": "text/x-python",
   "name": "python",
   "nbconvert_exporter": "python",
   "pygments_lexer": "ipython3",
   "version": "3.11.0"
  },
  "orig_nbformat": 4,
  "vscode": {
   "interpreter": {
    "hash": "2ea42b739dbf7a01eee024ea60961392dae073cf9cc22e8cda06314b50f7f022"
   }
  }
 },
 "nbformat": 4,
 "nbformat_minor": 2
}
