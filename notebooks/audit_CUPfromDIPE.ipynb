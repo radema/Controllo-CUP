{
 "cells": [
  {
   "cell_type": "code",
   "execution_count": 6,
   "metadata": {},
   "outputs": [],
   "source": [
    "import pandas as pd\n",
    "import os\n",
    "pd.options.display.max_columns = 200"
   ]
  },
  {
   "attachments": {},
   "cell_type": "markdown",
   "metadata": {},
   "source": [
    "# Import Dati Sorgente\n",
    "Vengono importate le seguenti sorgenti dati:\n",
    "1. CUP con feedback dal DIPE e relativi template associati\n",
    "2. CUP scaricati da OpenCoesione [(vedi qui - link)](https://opencoesione.gov.it/it/progetti/?q=&selected_facets=is_pubblicato:0&selected_facets=is_pubblicato:1&selected_facets=is_pubblicato:2)"
   ]
  },
  {
   "cell_type": "code",
   "execution_count": 7,
   "metadata": {},
   "outputs": [
    {
     "name": "stdout",
     "output_type": "stream",
     "text": [
      "<class 'pandas.core.frame.DataFrame'>\n",
      "RangeIndex: 60343 entries, 0 to 60342\n",
      "Data columns (total 14 columns):\n",
      " #   Column                 Non-Null Count  Dtype         \n",
      "---  ------                 --------------  -----         \n",
      " 0   CODICE_CUP             60343 non-null  object        \n",
      " 1   SOGGETTO_TITOLARE      60343 non-null  object        \n",
      " 2   DATA_GENERAZIONE       60341 non-null  datetime64[ns]\n",
      " 3   TEMPLATE               60343 non-null  float64       \n",
      " 4   COPERTURA_FINANZIARIA  60343 non-null  object        \n",
      " 5   COSTO                  60343 non-null  float64       \n",
      " 6   FINANZIAMENTO          60343 non-null  float64       \n",
      " 7   DESCRIZIONE_AGGREGATA  60343 non-null  object        \n",
      " 8   NATURA                 60343 non-null  object        \n",
      " 9   TIPOLOGIA              60343 non-null  object        \n",
      " 10  SETTORE                60343 non-null  object        \n",
      " 11  SOTTOSETTORE           60343 non-null  object        \n",
      " 12  CATEGORIA              60343 non-null  object        \n",
      " 13  STATO_PROGETTO         60343 non-null  object        \n",
      "dtypes: datetime64[ns](1), float64(3), object(10)\n",
      "memory usage: 6.4+ MB\n",
      "None\n"
     ]
    }
   ],
   "source": [
    "#  xls_DIPE = pd.ExcelFile('../result/CUP_feedback.xlsx')\n",
    "xls_DIPE = pd.ExcelFile('../data/01_raw/Tutti i CUP al 20230322.xlsx')\n",
    "df = pd.read_excel(xls_DIPE, 'CUP ').iloc[:-2,:]\n",
    "print(df.info())\n",
    "df.to_parquet('../data/02_primary/CUP_feedback.xlsx')"
   ]
  },
  {
   "cell_type": "code",
   "execution_count": 8,
   "metadata": {},
   "outputs": [],
   "source": [
    "DIRNAME = '../data/01_raw/Lista CUP'\n",
    "\n",
    "dfs = []\n",
    "lenghts = []\n",
    "for filename in os.listdir('../data/01_raw/Lista CUP'):\n",
    "    if filename.startswith('daCUP'):\n",
    "        with pd.ExcelFile(os.path.join(DIRNAME, filename)) as fl:\n",
    "            data = pd.read_excel(fl,'CUP').copy()\n",
    "            dfs.append(data)\n",
    "            lenghts.append(len(data))\n",
    "df = pd.concat(dfs, axis = 0, ignore_index=True).drop_duplicates()\n",
    "df.to_csv('../data/02_primary/CUP_feedback.parquet', index=False, quoting=1)"
   ]
  },
  {
   "cell_type": "code",
   "execution_count": 9,
   "metadata": {},
   "outputs": [],
   "source": [
    "df.CODICE_CUP.to_clipboard()"
   ]
  },
  {
   "cell_type": "code",
   "execution_count": 10,
   "metadata": {},
   "outputs": [
    {
     "name": "stdout",
     "output_type": "stream",
     "text": [
      "<class 'pandas.core.frame.DataFrame'>\n",
      "Int64Index: 26498 entries, 0 to 26530\n",
      "Data columns (total 14 columns):\n",
      " #   Column                 Non-Null Count  Dtype  \n",
      "---  ------                 --------------  -----  \n",
      " 0   CODICE_CUP             26498 non-null  object \n",
      " 1   SOGGETTO_TITOLARE      26498 non-null  object \n",
      " 2   DATA_GENERAZIONE       26497 non-null  object \n",
      " 3   TEMPLATE               25781 non-null  float64\n",
      " 4   COPERTURA_FINANZIARIA  26498 non-null  object \n",
      " 5   COSTO                  26498 non-null  int64  \n",
      " 6   FINANZIAMENTO          26498 non-null  int64  \n",
      " 7   DESCRIZIONE_AGGREGATA  26498 non-null  object \n",
      " 8   NATURA                 26498 non-null  object \n",
      " 9   TIPOLOGIA              26498 non-null  object \n",
      " 10  SETTORE                26498 non-null  object \n",
      " 11  SOTTOSETTORE           26498 non-null  object \n",
      " 12  CATEGORIA              26498 non-null  object \n",
      " 13  STATO_PROGETTO         26498 non-null  object \n",
      "dtypes: float64(1), int64(2), object(11)\n",
      "memory usage: 3.0+ MB\n"
     ]
    }
   ],
   "source": [
    "df.info()"
   ]
  },
  {
   "cell_type": "code",
   "execution_count": 11,
   "metadata": {},
   "outputs": [],
   "source": [
    "\n",
    "df_OC = pd.read_csv(\n",
    "    '../data/01_raw/progetti_OC.zip',\n",
    "    compression='zip', \n",
    "    sep=';',\n",
    "    quotechar='\"', \n",
    "    low_memory=False, \n",
    "    usecols=['COD_LOCALE_PROGETTO','CUP','OC_TITOLO_PROGETTO','OC_DESCR_CICLO','OC_COD_CICLO','OC_TEMA_SINTETICO','FONDO_COMUNITARIO','OC_CODICE_PROGRAMMA','OC_DESCRIZIONE_PROGRAMMA','COD_STRUMENTO','DESCR_STRUMENTO','OC_STATO_FINANZIARIO','OC_STATO_PROGETTO','OC_STATO_PROCEDURALE'],\n",
    "    header=0,\n",
    "    #nrows=10\n",
    "    )"
   ]
  },
  {
   "cell_type": "code",
   "execution_count": 12,
   "metadata": {},
   "outputs": [
    {
     "data": {
      "text/plain": [
       "0        B11C22001140006\n",
       "1        B11F22002130006\n",
       "2        B11F22002140006\n",
       "3        B11F22002150006\n",
       "4        B11F22002160006\n",
       "              ...       \n",
       "26526    J91F22003400006\n",
       "26527    J91F22003530006\n",
       "26528    J91F22003540006\n",
       "26529    J91F22003580006\n",
       "26530    J91F22003590006\n",
       "Name: CODICE_CUP, Length: 26498, dtype: object"
      ]
     },
     "execution_count": 12,
     "metadata": {},
     "output_type": "execute_result"
    }
   ],
   "source": [
    "df.CODICE_CUP"
   ]
  },
  {
   "cell_type": "code",
   "execution_count": 38,
   "metadata": {},
   "outputs": [
    {
     "name": "stdout",
     "output_type": "stream",
     "text": [
      "<class 'pandas.core.frame.DataFrame'>\n",
      "RangeIndex: 26575 entries, 0 to 26574\n",
      "Data columns (total 3 columns):\n",
      " #   Column             Non-Null Count  Dtype \n",
      "---  ------             --------------  ----- \n",
      " 0   CODICE_CUP         26574 non-null  object\n",
      " 1   AVVISO             26575 non-null  object\n",
      " 2   STATO_CANDIDATURA  26575 non-null  object\n",
      "dtypes: object(3)\n",
      "memory usage: 623.0+ KB\n"
     ]
    }
   ],
   "source": [
    "df_pad2026 = pd.read_csv('../data/01_raw/LISTA_CUP_SF.csv') # estratto direttamente da Salesforce tramite query\n",
    "# df_pad2026 = pd.read_csv('../data/01_raw/CUP_output_20230130.csv')\n",
    "df_pad2026.columns = ['_','CODICE_CUP','__','AVVISO','STATO_CANDIDATURA']\n",
    "df_pad2026.drop(columns=['_','__'],  inplace = True)\n",
    "df_pad2026.info()\n"
   ]
  },
  {
   "cell_type": "code",
   "execution_count": 39,
   "metadata": {},
   "outputs": [
    {
     "name": "stdout",
     "output_type": "stream",
     "text": [
      "<class 'pandas.core.frame.DataFrame'>\n",
      "RangeIndex: 26575 entries, 0 to 26574\n",
      "Data columns (total 3 columns):\n",
      " #   Column             Non-Null Count  Dtype \n",
      "---  ------             --------------  ----- \n",
      " 0   CODICE_CUP         26574 non-null  object\n",
      " 1   AVVISO             26575 non-null  object\n",
      " 2   STATO_CANDIDATURA  26575 non-null  object\n",
      "dtypes: object(3)\n",
      "memory usage: 623.0+ KB\n"
     ]
    }
   ],
   "source": [
    "df_pad2026.info()"
   ]
  },
  {
   "cell_type": "code",
   "execution_count": 40,
   "metadata": {},
   "outputs": [
    {
     "data": {
      "text/html": [
       "<div>\n",
       "<style scoped>\n",
       "    .dataframe tbody tr th:only-of-type {\n",
       "        vertical-align: middle;\n",
       "    }\n",
       "\n",
       "    .dataframe tbody tr th {\n",
       "        vertical-align: top;\n",
       "    }\n",
       "\n",
       "    .dataframe thead th {\n",
       "        text-align: right;\n",
       "    }\n",
       "</style>\n",
       "<table border=\"1\" class=\"dataframe\">\n",
       "  <thead>\n",
       "    <tr style=\"text-align: right;\">\n",
       "      <th></th>\n",
       "      <th>CODICE_CUP</th>\n",
       "      <th>AVVISO</th>\n",
       "      <th>STATO_CANDIDATURA</th>\n",
       "    </tr>\n",
       "  </thead>\n",
       "  <tbody>\n",
       "    <tr>\n",
       "      <th>10787</th>\n",
       "      <td>D31F22004420006</td>\n",
       "      <td>1.4.5 \"Piattaforma Notifiche Digitali” Comuni ...</td>\n",
       "      <td>FINANZIATA</td>\n",
       "    </tr>\n",
       "    <tr>\n",
       "      <th>20516</th>\n",
       "      <td>D91F22003340006</td>\n",
       "      <td>1.2 Abilitazione al Cloud - Comuni - Luglio 2022</td>\n",
       "      <td>FINANZIATA</td>\n",
       "    </tr>\n",
       "    <tr>\n",
       "      <th>21777</th>\n",
       "      <td>F91F22002170006</td>\n",
       "      <td>1.4.3 - pagoPA - Comuni - Aprile 2022</td>\n",
       "      <td>FINANZIATA</td>\n",
       "    </tr>\n",
       "  </tbody>\n",
       "</table>\n",
       "</div>"
      ],
      "text/plain": [
       "            CODICE_CUP                                             AVVISO  \\\n",
       "10787  D31F22004420006  1.4.5 \"Piattaforma Notifiche Digitali” Comuni ...   \n",
       "20516  D91F22003340006   1.2 Abilitazione al Cloud - Comuni - Luglio 2022   \n",
       "21777  F91F22002170006              1.4.3 - pagoPA - Comuni - Aprile 2022   \n",
       "\n",
       "      STATO_CANDIDATURA  \n",
       "10787        FINANZIATA  \n",
       "20516        FINANZIATA  \n",
       "21777        FINANZIATA  "
      ]
     },
     "execution_count": 40,
     "metadata": {},
     "output_type": "execute_result"
    }
   ],
   "source": [
    "candidature_attive = df_pad2026.STATO_CANDIDATURA.isin(['ACCETTATA','FINANZIATA'])\n",
    "CUP_DUPLICATI = df_pad2026[candidature_attive].CODICE_CUP.duplicated()\n",
    "df_pad2026[candidature_attive][CUP_DUPLICATI]"
   ]
  },
  {
   "attachments": {},
   "cell_type": "markdown",
   "metadata": {},
   "source": [
    "# Controlli da fare\n",
    "\n",
    "Di seguito vengono fatti i seguenti controlli, in ordine di priorità:\n",
    "\n",
    "1. CUP PNRR in OpenCoesione\n",
    "2. CUP duplicato nel PNRR\n",
    "3. CUP non esistente nei sistemi DIPE\n",
    "4. CUP senza template\n",
    "5. CUP template diverso\n"
   ]
  },
  {
   "cell_type": "code",
   "execution_count": 41,
   "metadata": {},
   "outputs": [],
   "source": [
    "# concateno dataset da OpenCoesione (OC)\n",
    "# df_OC = pd.concat([df_OC, df_OC2]).copy()\n",
    "\n",
    "df_OC = df_OC.drop_duplicates(subset='CUP',keep='last').copy()"
   ]
  },
  {
   "cell_type": "code",
   "execution_count": 42,
   "metadata": {},
   "outputs": [
    {
     "name": "stdout",
     "output_type": "stream",
     "text": [
      "1274053\n"
     ]
    }
   ],
   "source": [
    "print(df_OC.CUP.nunique())"
   ]
  },
  {
   "cell_type": "code",
   "execution_count": 43,
   "metadata": {},
   "outputs": [],
   "source": [
    "df_DIPE = pd.merge(df_pad2026,df.drop_duplicates(),  on = 'CODICE_CUP', how ='left').drop_duplicates()\n",
    "df_DIPE.loc[df_DIPE.STATO_PROGETTO.isna(),'STATO_PROGETTO'] = 'CUP INESISTENTE'"
   ]
  },
  {
   "cell_type": "code",
   "execution_count": 44,
   "metadata": {},
   "outputs": [],
   "source": [
    "df_DIPE['CUP'] = df_DIPE.CODICE_CUP"
   ]
  },
  {
   "cell_type": "code",
   "execution_count": 45,
   "metadata": {},
   "outputs": [
    {
     "data": {
      "text/plain": [
       "0        2203007.0\n",
       "1        2203007.0\n",
       "2        2203006.0\n",
       "3        2208001.0\n",
       "4        2208001.0\n",
       "           ...    \n",
       "26570    2203007.0\n",
       "26571    2203006.0\n",
       "26572    2210002.0\n",
       "26573    2203006.0\n",
       "26574    2203004.0\n",
       "Name: TEMPLATE, Length: 25788, dtype: float64"
      ]
     },
     "execution_count": 45,
     "metadata": {},
     "output_type": "execute_result"
    }
   ],
   "source": [
    "df_DIPE[df_DIPE.TEMPLATE.notna()].TEMPLATE"
   ]
  },
  {
   "cell_type": "code",
   "execution_count": 46,
   "metadata": {},
   "outputs": [],
   "source": [
    "# Primi check\n",
    "\n",
    "\n",
    "## CUP double funding\n",
    "DOUBLE_FUNDING_CUP = pd.merge( df_OC['CUP'], df_DIPE['CUP'], on = 'CUP',how='inner',validate=\"1:m\").CUP.unique()\n",
    "## CUP double project\n",
    "DOUBLE_REQUEST_CUP = df_DIPE.groupby(by = 'CUP').filter(lambda x: len(x)>1).sort_values(by='CUP').CUP.unique()\n",
    "## CUP non esistente nei sistemi DIPE\n",
    "MISSING_CUP = df_DIPE[df_DIPE.STATO_PROGETTO=='CUP INESISTENTE'].CUP.unique()\n",
    "## Template mancante\n",
    "MISSING_TEMPLATE = df_DIPE[df_DIPE.TEMPLATE.isna()].CUP.unique()\n",
    "#Template errato\n",
    "map_sheet2template = df_DIPE[(df_DIPE.TEMPLATE.notna())].groupby(by='AVVISO').TEMPLATE.agg(pd.Series.mode).to_dict()\n",
    "# map_sheet2template['1.4.4 Altri Enti FINESTRA_76'] = 20220511\n",
    "# map_sheet2template['1.4.3 Altri Enti App IOFINESTRA'] = 20220509\n",
    "# map_sheet2template[ '1.4.3 pagoPA Altri EntiFINESTRA'] = 20220510\n",
    "WRONG_TEMPLATE = [] \n",
    "WRONG_TEMPLATE = df_DIPE[df_DIPE.AVVISO.replace(map_sheet2template) != df_DIPE.TEMPLATE].CUP.unique()"
   ]
  },
  {
   "cell_type": "code",
   "execution_count": null,
   "metadata": {},
   "outputs": [],
   "source": []
  },
  {
   "cell_type": "code",
   "execution_count": 47,
   "metadata": {},
   "outputs": [],
   "source": [
    "def classify_CUP(CUP: str):\n",
    "    '''\n",
    "    Funzione per produrre una semplice classificazione dei CUP secondo una scala di priorità:\n",
    "    1. CUP PNRR in OpenCoesione\n",
    "    2. CUP duplicato nel PNRR\n",
    "    3. CUP non esistente nei sistemi DIPE\n",
    "    4. CUP senza template\n",
    "    5. CUP template diverso\n",
    "    '''\n",
    "\n",
    "    if CUP in DOUBLE_FUNDING_CUP:\n",
    "        return 'CUP già presente in OPEN COESIONE'\n",
    "    elif CUP in MISSING_CUP:\n",
    "        return 'CUP NON PRESENTE NEL FEEDBACK DIPE'\n",
    "    elif CUP in DOUBLE_REQUEST_CUP:\n",
    "        return \"CUP PRESENTE IN PIU' CANDIDATURE\"\n",
    "    elif CUP in MISSING_TEMPLATE:\n",
    "        return 'TEMPLATE MANCANTE'\n",
    "    elif CUP in WRONG_TEMPLATE:\n",
    "        return 'TEMPLATE ERRATO'\n",
    "    else:\n",
    "        return 'NESSUN PROBLEMA RISCONTRATO AL MOMENTO'"
   ]
  },
  {
   "cell_type": "code",
   "execution_count": 48,
   "metadata": {},
   "outputs": [],
   "source": [
    "# applica classificazione\n",
    "df_DIPE['CLASSIFICAZIONE_ISSUE_CUP']  = df_DIPE.CUP.apply(classify_CUP)"
   ]
  },
  {
   "cell_type": "code",
   "execution_count": 49,
   "metadata": {},
   "outputs": [
    {
     "name": "stdout",
     "output_type": "stream",
     "text": [
      "26573\n"
     ]
    },
    {
     "data": {
      "text/plain": [
       "CLASSIFICAZIONE_ISSUE_CUP\n",
       "CUP NON PRESENTE NEL FEEDBACK DIPE           81\n",
       "CUP PRESENTE IN PIU' CANDIDATURE             66\n",
       "NESSUN PROBLEMA RISCONTRATO AL MOMENTO    25357\n",
       "TEMPLATE ERRATO                             367\n",
       "TEMPLATE MANCANTE                           702\n",
       "Name: CUP, dtype: int64"
      ]
     },
     "execution_count": 49,
     "metadata": {},
     "output_type": "execute_result"
    }
   ],
   "source": [
    "print(df_DIPE.CUP.count())\n",
    "#crea aggregati\n",
    "df_DIPE.groupby(by=['CLASSIFICAZIONE_ISSUE_CUP']).CUP.count()"
   ]
  },
  {
   "cell_type": "code",
   "execution_count": 52,
   "metadata": {},
   "outputs": [],
   "source": [
    "df_DIPE[df_DIPE.CLASSIFICAZIONE_ISSUE_CUP==\"CUP NON PRESENTE NEL FEEDBACK DIPE\"][['CODICE_CUP','AVVISO','STATO_CANDIDATURA']].to_clipboard()"
   ]
  },
  {
   "cell_type": "code",
   "execution_count": null,
   "metadata": {},
   "outputs": [
    {
     "data": {
      "text/html": [
       "<div>\n",
       "<style scoped>\n",
       "    .dataframe tbody tr th:only-of-type {\n",
       "        vertical-align: middle;\n",
       "    }\n",
       "\n",
       "    .dataframe tbody tr th {\n",
       "        vertical-align: top;\n",
       "    }\n",
       "\n",
       "    .dataframe thead th {\n",
       "        text-align: right;\n",
       "    }\n",
       "</style>\n",
       "<table border=\"1\" class=\"dataframe\">\n",
       "  <thead>\n",
       "    <tr style=\"text-align: right;\">\n",
       "      <th></th>\n",
       "      <th>CODICE_CUP</th>\n",
       "      <th>AVVISO</th>\n",
       "      <th>STATO_CANDIDATURA</th>\n",
       "      <th>SOGGETTO_TITOLARE</th>\n",
       "      <th>DATA_GENERAZIONE</th>\n",
       "      <th>TEMPLATE</th>\n",
       "      <th>COPERTURA_FINANZIARIA</th>\n",
       "      <th>COSTO</th>\n",
       "      <th>FINANZIAMENTO</th>\n",
       "      <th>DESCRIZIONE_AGGREGATA</th>\n",
       "      <th>NATURA</th>\n",
       "      <th>TIPOLOGIA</th>\n",
       "      <th>SETTORE</th>\n",
       "      <th>SOTTOSETTORE</th>\n",
       "      <th>CATEGORIA</th>\n",
       "      <th>STATO_PROGETTO</th>\n",
       "      <th>CUP</th>\n",
       "      <th>CLASSIFICAZIONE_ISSUE_CUP</th>\n",
       "    </tr>\n",
       "  </thead>\n",
       "  <tbody>\n",
       "    <tr>\n",
       "      <th>2000</th>\n",
       "      <td>F91F22002170006</td>\n",
       "      <td>1.4.3 - pagoPA - Comuni - Settembre 2022</td>\n",
       "      <td>FINANZIATA</td>\n",
       "      <td>COMUNE DI SANTA GIUSTINA - BELLUNO -</td>\n",
       "      <td>2022-08-05 00:00:00</td>\n",
       "      <td>2203007.0</td>\n",
       "      <td>COMUNITARIA</td>\n",
       "      <td>7713.0</td>\n",
       "      <td>7713.0</td>\n",
       "      <td>PIATTAFORMA PAGOPA*TERRITORIO NAZIONALE*ATTIVA...</td>\n",
       "      <td>ACQUISTO O REALIZZAZIONE DI SERVIZI</td>\n",
       "      <td>APPLICATIVI E PIATTAFORME WEB</td>\n",
       "      <td>SERVIZI PER LA P.A. E PER LA COLLETTIVITA'</td>\n",
       "      <td>SERVIZI E APPLICAZIONI INFORMATICHE PER I CITT...</td>\n",
       "      <td>SERVIZI ED APPLICAZIONI PER IL PUBBLICO</td>\n",
       "      <td>Attivo</td>\n",
       "      <td>F91F22002170006</td>\n",
       "      <td>CUP PRESENTE IN PIU' CANDIDATURE</td>\n",
       "    </tr>\n",
       "    <tr>\n",
       "      <th>7868</th>\n",
       "      <td>D91F22003340006</td>\n",
       "      <td>1.4.1 Esperienza del Cittadino - Comuni - Sett...</td>\n",
       "      <td>FINANZIATA</td>\n",
       "      <td>COMUNE DI CASIRATE D'ADDA - BERGAMO -</td>\n",
       "      <td>2022-10-27 00:00:00</td>\n",
       "      <td>2204004.0</td>\n",
       "      <td>COMUNITARIA</td>\n",
       "      <td>79922.0</td>\n",
       "      <td>79922.0</td>\n",
       "      <td>MIGLIORAMENTO DELLESPERIENZA DUSO DEL SITO E...</td>\n",
       "      <td>ACQUISTO O REALIZZAZIONE DI SERVIZI</td>\n",
       "      <td>APPLICATIVI E PIATTAFORME WEB</td>\n",
       "      <td>SERVIZI PER LA P.A. E PER LA COLLETTIVITA'</td>\n",
       "      <td>SERVIZI E APPLICAZIONI INFORMATICHE PER I CITT...</td>\n",
       "      <td>SERVIZI ED APPLICAZIONI PER IL PUBBLICO</td>\n",
       "      <td>Attivo</td>\n",
       "      <td>D91F22003340006</td>\n",
       "      <td>CUP PRESENTE IN PIU' CANDIDATURE</td>\n",
       "    </tr>\n",
       "    <tr>\n",
       "      <th>20516</th>\n",
       "      <td>D91F22003340006</td>\n",
       "      <td>1.2 Abilitazione al Cloud - Comuni - Luglio 2022</td>\n",
       "      <td>FINANZIATA</td>\n",
       "      <td>COMUNE DI CASIRATE D'ADDA - BERGAMO -</td>\n",
       "      <td>2022-10-27 00:00:00</td>\n",
       "      <td>2204004.0</td>\n",
       "      <td>COMUNITARIA</td>\n",
       "      <td>79922.0</td>\n",
       "      <td>79922.0</td>\n",
       "      <td>MIGLIORAMENTO DELLESPERIENZA DUSO DEL SITO E...</td>\n",
       "      <td>ACQUISTO O REALIZZAZIONE DI SERVIZI</td>\n",
       "      <td>APPLICATIVI E PIATTAFORME WEB</td>\n",
       "      <td>SERVIZI PER LA P.A. E PER LA COLLETTIVITA'</td>\n",
       "      <td>SERVIZI E APPLICAZIONI INFORMATICHE PER I CITT...</td>\n",
       "      <td>SERVIZI ED APPLICAZIONI PER IL PUBBLICO</td>\n",
       "      <td>Attivo</td>\n",
       "      <td>D91F22003340006</td>\n",
       "      <td>CUP PRESENTE IN PIU' CANDIDATURE</td>\n",
       "    </tr>\n",
       "    <tr>\n",
       "      <th>21777</th>\n",
       "      <td>F91F22002170006</td>\n",
       "      <td>1.4.3 - pagoPA - Comuni - Aprile 2022</td>\n",
       "      <td>FINANZIATA</td>\n",
       "      <td>COMUNE DI SANTA GIUSTINA - BELLUNO -</td>\n",
       "      <td>2022-08-05 00:00:00</td>\n",
       "      <td>2203007.0</td>\n",
       "      <td>COMUNITARIA</td>\n",
       "      <td>7713.0</td>\n",
       "      <td>7713.0</td>\n",
       "      <td>PIATTAFORMA PAGOPA*TERRITORIO NAZIONALE*ATTIVA...</td>\n",
       "      <td>ACQUISTO O REALIZZAZIONE DI SERVIZI</td>\n",
       "      <td>APPLICATIVI E PIATTAFORME WEB</td>\n",
       "      <td>SERVIZI PER LA P.A. E PER LA COLLETTIVITA'</td>\n",
       "      <td>SERVIZI E APPLICAZIONI INFORMATICHE PER I CITT...</td>\n",
       "      <td>SERVIZI ED APPLICAZIONI PER IL PUBBLICO</td>\n",
       "      <td>Attivo</td>\n",
       "      <td>F91F22002170006</td>\n",
       "      <td>CUP PRESENTE IN PIU' CANDIDATURE</td>\n",
       "    </tr>\n",
       "  </tbody>\n",
       "</table>\n",
       "</div>"
      ],
      "text/plain": [
       "            CODICE_CUP                                             AVVISO  \\\n",
       "2000   F91F22002170006           1.4.3 - pagoPA - Comuni - Settembre 2022   \n",
       "7868   D91F22003340006  1.4.1 Esperienza del Cittadino - Comuni - Sett...   \n",
       "20516  D91F22003340006   1.2 Abilitazione al Cloud - Comuni - Luglio 2022   \n",
       "21777  F91F22002170006              1.4.3 - pagoPA - Comuni - Aprile 2022   \n",
       "\n",
       "      STATO_CANDIDATURA                      SOGGETTO_TITOLARE  \\\n",
       "2000         FINANZIATA   COMUNE DI SANTA GIUSTINA - BELLUNO -   \n",
       "7868         FINANZIATA  COMUNE DI CASIRATE D'ADDA - BERGAMO -   \n",
       "20516        FINANZIATA  COMUNE DI CASIRATE D'ADDA - BERGAMO -   \n",
       "21777        FINANZIATA   COMUNE DI SANTA GIUSTINA - BELLUNO -   \n",
       "\n",
       "          DATA_GENERAZIONE   TEMPLATE COPERTURA_FINANZIARIA    COSTO  \\\n",
       "2000   2022-08-05 00:00:00  2203007.0           COMUNITARIA   7713.0   \n",
       "7868   2022-10-27 00:00:00  2204004.0           COMUNITARIA  79922.0   \n",
       "20516  2022-10-27 00:00:00  2204004.0           COMUNITARIA  79922.0   \n",
       "21777  2022-08-05 00:00:00  2203007.0           COMUNITARIA   7713.0   \n",
       "\n",
       "       FINANZIAMENTO                              DESCRIZIONE_AGGREGATA  \\\n",
       "2000          7713.0  PIATTAFORMA PAGOPA*TERRITORIO NAZIONALE*ATTIVA...   \n",
       "7868         79922.0  MIGLIORAMENTO DELLESPERIENZA DUSO DEL SITO E...   \n",
       "20516        79922.0  MIGLIORAMENTO DELLESPERIENZA DUSO DEL SITO E...   \n",
       "21777         7713.0  PIATTAFORMA PAGOPA*TERRITORIO NAZIONALE*ATTIVA...   \n",
       "\n",
       "                                    NATURA                      TIPOLOGIA  \\\n",
       "2000   ACQUISTO O REALIZZAZIONE DI SERVIZI  APPLICATIVI E PIATTAFORME WEB   \n",
       "7868   ACQUISTO O REALIZZAZIONE DI SERVIZI  APPLICATIVI E PIATTAFORME WEB   \n",
       "20516  ACQUISTO O REALIZZAZIONE DI SERVIZI  APPLICATIVI E PIATTAFORME WEB   \n",
       "21777  ACQUISTO O REALIZZAZIONE DI SERVIZI  APPLICATIVI E PIATTAFORME WEB   \n",
       "\n",
       "                                          SETTORE  \\\n",
       "2000   SERVIZI PER LA P.A. E PER LA COLLETTIVITA'   \n",
       "7868   SERVIZI PER LA P.A. E PER LA COLLETTIVITA'   \n",
       "20516  SERVIZI PER LA P.A. E PER LA COLLETTIVITA'   \n",
       "21777  SERVIZI PER LA P.A. E PER LA COLLETTIVITA'   \n",
       "\n",
       "                                            SOTTOSETTORE  \\\n",
       "2000   SERVIZI E APPLICAZIONI INFORMATICHE PER I CITT...   \n",
       "7868   SERVIZI E APPLICAZIONI INFORMATICHE PER I CITT...   \n",
       "20516  SERVIZI E APPLICAZIONI INFORMATICHE PER I CITT...   \n",
       "21777  SERVIZI E APPLICAZIONI INFORMATICHE PER I CITT...   \n",
       "\n",
       "                                     CATEGORIA STATO_PROGETTO  \\\n",
       "2000   SERVIZI ED APPLICAZIONI PER IL PUBBLICO         Attivo   \n",
       "7868   SERVIZI ED APPLICAZIONI PER IL PUBBLICO         Attivo   \n",
       "20516  SERVIZI ED APPLICAZIONI PER IL PUBBLICO         Attivo   \n",
       "21777  SERVIZI ED APPLICAZIONI PER IL PUBBLICO         Attivo   \n",
       "\n",
       "                   CUP         CLASSIFICAZIONE_ISSUE_CUP  \n",
       "2000   F91F22002170006  CUP PRESENTE IN PIU' CANDIDATURE  \n",
       "7868   D91F22003340006  CUP PRESENTE IN PIU' CANDIDATURE  \n",
       "20516  D91F22003340006  CUP PRESENTE IN PIU' CANDIDATURE  \n",
       "21777  F91F22002170006  CUP PRESENTE IN PIU' CANDIDATURE  "
      ]
     },
     "execution_count": 28,
     "metadata": {},
     "output_type": "execute_result"
    }
   ],
   "source": [
    "df_DIPE[df_DIPE.CUP.isin(['F91F22002170006','D91F22003340006'])]"
   ]
  },
  {
   "cell_type": "code",
   "execution_count": null,
   "metadata": {},
   "outputs": [],
   "source": [
    "df_DIPE[(df_DIPE.CLASSIFICAZIONE_ISSUE_CUP == \"CUP NON PRESENTE NEL FEEDBACK DIPE\")&(df_DIPE.STATO_CANDIDATURA=='FINANZIATA')].CODICE_CUP.drop_duplicates().to_csv('../data/02_primary/missing_CUP.csv', index=False, quoting=1)"
   ]
  },
  {
   "cell_type": "code",
   "execution_count": null,
   "metadata": {},
   "outputs": [
    {
     "data": {
      "text/plain": [
       "F91F22002170006     True\n",
       "D91F22003340006     True\n",
       "E31C22001360006    False\n",
       "J41F22002450006    False\n",
       "J21F22002490006    False\n",
       "J11F22002310006    False\n",
       "B51F22002130006    False\n",
       "B91C22001040006    False\n",
       "B61C22001070006    False\n",
       "D51F22002870006    False\n",
       "G21F22002260006    False\n",
       "C81F22002280006    False\n",
       "E91F22002250006    False\n",
       "G61F22002770006    False\n",
       "I31F22002770006    False\n",
       "B81F22002740006    False\n",
       "D81F22002430006    False\n",
       "F61F22002080006    False\n",
       "I71F22002100006    False\n",
       "D81F22002440006    False\n",
       "F61F22002320006    False\n",
       "J41F22002440006    False\n",
       "B51F22002330006    False\n",
       "B71F22002310006    False\n",
       "H61C22001120006    False\n",
       "H41C22000980006    False\n",
       "J71C22000960006    False\n",
       "I57H22001840001    False\n",
       "C51F22002010006    False\n",
       "H61C22001090006    False\n",
       "J51F22002080006    False\n",
       "Name: CUP, dtype: bool"
      ]
     },
     "execution_count": 30,
     "metadata": {},
     "output_type": "execute_result"
    }
   ],
   "source": [
    "df_DIPE[(df_DIPE.CLASSIFICAZIONE_ISSUE_CUP == \"CUP PRESENTE IN PIU' CANDIDATURE\")&(df_DIPE.STATO_CANDIDATURA=='FINANZIATA')].CUP.value_counts()>1\n",
    "# GIà SANATO\n",
    "# eventualmente approfondire"
   ]
  },
  {
   "cell_type": "code",
   "execution_count": null,
   "metadata": {},
   "outputs": [
    {
     "data": {
      "text/plain": [
       "[]"
      ]
     },
     "execution_count": 31,
     "metadata": {},
     "output_type": "execute_result"
    }
   ],
   "source": [
    "df_DIPE[(df_DIPE.CLASSIFICAZIONE_ISSUE_CUP == \"CUP già presente in OPEN COESIONE\")].SOGGETTO_TITOLARE.to_list()\n",
    "# "
   ]
  },
  {
   "cell_type": "code",
   "execution_count": null,
   "metadata": {},
   "outputs": [
    {
     "data": {
      "text/html": [
       "<div>\n",
       "<style scoped>\n",
       "    .dataframe tbody tr th:only-of-type {\n",
       "        vertical-align: middle;\n",
       "    }\n",
       "\n",
       "    .dataframe tbody tr th {\n",
       "        vertical-align: top;\n",
       "    }\n",
       "\n",
       "    .dataframe thead th {\n",
       "        text-align: right;\n",
       "    }\n",
       "</style>\n",
       "<table border=\"1\" class=\"dataframe\">\n",
       "  <thead>\n",
       "    <tr style=\"text-align: right;\">\n",
       "      <th></th>\n",
       "      <th>CODICE_CUP</th>\n",
       "      <th>AVVISO</th>\n",
       "      <th>STATO_CANDIDATURA</th>\n",
       "      <th>SOGGETTO_TITOLARE</th>\n",
       "      <th>DATA_GENERAZIONE</th>\n",
       "      <th>TEMPLATE</th>\n",
       "      <th>COPERTURA_FINANZIARIA</th>\n",
       "      <th>COSTO</th>\n",
       "      <th>FINANZIAMENTO</th>\n",
       "      <th>DESCRIZIONE_AGGREGATA</th>\n",
       "      <th>NATURA</th>\n",
       "      <th>TIPOLOGIA</th>\n",
       "      <th>SETTORE</th>\n",
       "      <th>SOTTOSETTORE</th>\n",
       "      <th>CATEGORIA</th>\n",
       "      <th>STATO_PROGETTO</th>\n",
       "      <th>CUP</th>\n",
       "      <th>CLASSIFICAZIONE_ISSUE_CUP</th>\n",
       "    </tr>\n",
       "  </thead>\n",
       "  <tbody>\n",
       "  </tbody>\n",
       "</table>\n",
       "</div>"
      ],
      "text/plain": [
       "Empty DataFrame\n",
       "Columns: [CODICE_CUP, AVVISO, STATO_CANDIDATURA, SOGGETTO_TITOLARE, DATA_GENERAZIONE, TEMPLATE, COPERTURA_FINANZIARIA, COSTO, FINANZIAMENTO, DESCRIZIONE_AGGREGATA, NATURA, TIPOLOGIA, SETTORE, SOTTOSETTORE, CATEGORIA, STATO_PROGETTO, CUP, CLASSIFICAZIONE_ISSUE_CUP]\n",
       "Index: []"
      ]
     },
     "execution_count": 32,
     "metadata": {},
     "output_type": "execute_result"
    }
   ],
   "source": [
    "df_DIPE[df_DIPE.CLASSIFICAZIONE_ISSUE_CUP == \"CUP già presente in OPEN COESIONE\"]"
   ]
  },
  {
   "cell_type": "code",
   "execution_count": null,
   "metadata": {},
   "outputs": [
    {
     "data": {
      "text/plain": [
       "['E61F22004310006',\n",
       " 'J41F22003350006',\n",
       " 'I51C22001150006',\n",
       " 'D51F22007190006',\n",
       " 'D21F23000260006',\n",
       " 'E41C22001540006',\n",
       " 'H81F22004610006',\n",
       " 'B51F22002530006',\n",
       " 'D41F22002920006',\n",
       " 'G61F22003110006',\n",
       " 'I81F22004010006',\n",
       " 'B61F22003000002',\n",
       " 'H19I22000880001',\n",
       " 'H81F22004600006',\n",
       " 'B41C22002280006',\n",
       " 'J41F22004840006',\n",
       " 'H81F22003860007',\n",
       " 'G41F22004570006',\n",
       " 'F91F22002360006',\n",
       " 'I51F22003630006',\n",
       " 'I31F22005280006',\n",
       " 'C31F22002570006',\n",
       " 'C31C22001180006',\n",
       " 'I21C22001420006',\n",
       " 'D81F22004820006',\n",
       " 'E51F22003880006',\n",
       " 'H71J22000220006',\n",
       " 'B11F22003530006',\n",
       " 'H11F22004140006',\n",
       " 'C41F22004810006',\n",
       " 'J51F22008750006',\n",
       " 'D81F22004400006',\n",
       " 'D81C22002790006',\n",
       " 'B91I22000290006',\n",
       " 'E31F22003930006',\n",
       " 'I81F22004020006',\n",
       " 'B31C22001910006',\n",
       " 'G31F22004900006',\n",
       " 'G31C22002120006',\n",
       " 'E51F22006450006',\n",
       " 'E11F22005090006',\n",
       " 'J51F22003810006',\n",
       " 'I71F22004390001',\n",
       " 'E51F22008790006',\n",
       " 'F71F22002250006',\n",
       " 'G61F22005190006',\n",
       " 'F71F22002260006',\n",
       " 'J81F22002230006',\n",
       " 'I97H22002270006',\n",
       " 'J71F22002950006',\n",
       " 'J71F22002430006',\n",
       " 'I61C22001040006',\n",
       " 'J71F22002410006',\n",
       " 'B41F22005060006',\n",
       " 'E31F22004550006',\n",
       " 'H71F22001850006',\n",
       " 'H51F22002740006',\n",
       " 'D81C22000980006',\n",
       " 'E41F22002460006',\n",
       " 'I31F22003280006',\n",
       " 'D31F22002330006',\n",
       " 'B31F23000260007',\n",
       " 'B31F23000270006',\n",
       " 'E11F22003790006',\n",
       " 'H61F22003190006',\n",
       " 'H81F22004020006',\n",
       " '161F22002160006',\n",
       " 'I71C22001520006',\n",
       " 'H11F22003020006']"
      ]
     },
     "execution_count": 33,
     "metadata": {},
     "output_type": "execute_result"
    }
   ],
   "source": [
    "df_DIPE[(df_DIPE.CLASSIFICAZIONE_ISSUE_CUP=='CUP NON PRESENTE NEL FEEDBACK DIPE')&(df_DIPE.STATO_CANDIDATURA!='RINUNCIATA')].CUP.to_list()"
   ]
  },
  {
   "cell_type": "code",
   "execution_count": null,
   "metadata": {},
   "outputs": [
    {
     "data": {
      "text/html": [
       "<div>\n",
       "<style scoped>\n",
       "    .dataframe tbody tr th:only-of-type {\n",
       "        vertical-align: middle;\n",
       "    }\n",
       "\n",
       "    .dataframe tbody tr th {\n",
       "        vertical-align: top;\n",
       "    }\n",
       "\n",
       "    .dataframe thead th {\n",
       "        text-align: right;\n",
       "    }\n",
       "</style>\n",
       "<table border=\"1\" class=\"dataframe\">\n",
       "  <thead>\n",
       "    <tr style=\"text-align: right;\">\n",
       "      <th></th>\n",
       "      <th>CODICE_CUP</th>\n",
       "      <th>SOGGETTO_TITOLARE</th>\n",
       "      <th>DATA_GENERAZIONE</th>\n",
       "      <th>TEMPLATE</th>\n",
       "      <th>COPERTURA_FINANZIARIA</th>\n",
       "      <th>COSTO</th>\n",
       "      <th>FINANZIAMENTO</th>\n",
       "      <th>DESCRIZIONE_AGGREGATA</th>\n",
       "      <th>NATURA</th>\n",
       "      <th>TIPOLOGIA</th>\n",
       "      <th>SETTORE</th>\n",
       "      <th>SOTTOSETTORE</th>\n",
       "      <th>CATEGORIA</th>\n",
       "      <th>STATO_PROGETTO</th>\n",
       "    </tr>\n",
       "  </thead>\n",
       "  <tbody>\n",
       "    <tr>\n",
       "      <th>772</th>\n",
       "      <td>C71C22001500001</td>\n",
       "      <td>COMUNE DI CISERANO - BERGAMO -</td>\n",
       "      <td>2022-10-14 00:00:00</td>\n",
       "      <td>NaN</td>\n",
       "      <td>STATALE</td>\n",
       "      <td>32589</td>\n",
       "      <td>32589</td>\n",
       "      <td>COMUNE DI CISERANO*VIA P.ZZA GIOVANNI XXIII, N...</td>\n",
       "      <td>ACQUISTO O REALIZZAZIONE DI SERVIZI</td>\n",
       "      <td>APPLICATIVI E PIATTAFORME WEB</td>\n",
       "      <td>SERVIZI PER LA P.A. E PER LA COLLETTIVITA'</td>\n",
       "      <td>SERVIZI E TECNOLOGIE PER L'INFORMAZIONE E LE C...</td>\n",
       "      <td>INFORMAZIONE E COMUNICAZIONE PER ATTIVITA' IST...</td>\n",
       "      <td>Attivo</td>\n",
       "    </tr>\n",
       "  </tbody>\n",
       "</table>\n",
       "</div>"
      ],
      "text/plain": [
       "          CODICE_CUP               SOGGETTO_TITOLARE     DATA_GENERAZIONE  \\\n",
       "772  C71C22001500001  COMUNE DI CISERANO - BERGAMO -  2022-10-14 00:00:00   \n",
       "\n",
       "     TEMPLATE COPERTURA_FINANZIARIA  COSTO  FINANZIAMENTO  \\\n",
       "772       NaN               STATALE  32589          32589   \n",
       "\n",
       "                                 DESCRIZIONE_AGGREGATA  \\\n",
       "772  COMUNE DI CISERANO*VIA P.ZZA GIOVANNI XXIII, N...   \n",
       "\n",
       "                                  NATURA                      TIPOLOGIA  \\\n",
       "772  ACQUISTO O REALIZZAZIONE DI SERVIZI  APPLICATIVI E PIATTAFORME WEB   \n",
       "\n",
       "                                        SETTORE  \\\n",
       "772  SERVIZI PER LA P.A. E PER LA COLLETTIVITA'   \n",
       "\n",
       "                                          SOTTOSETTORE  \\\n",
       "772  SERVIZI E TECNOLOGIE PER L'INFORMAZIONE E LE C...   \n",
       "\n",
       "                                             CATEGORIA STATO_PROGETTO  \n",
       "772  INFORMAZIONE E COMUNICAZIONE PER ATTIVITA' IST...         Attivo  "
      ]
     },
     "execution_count": 34,
     "metadata": {},
     "output_type": "execute_result"
    }
   ],
   "source": [
    "df[df['CODICE_CUP']=='C71C22001500001']"
   ]
  },
  {
   "cell_type": "code",
   "execution_count": null,
   "metadata": {},
   "outputs": [],
   "source": [
    "df_DIPE.to_csv('../data/02_primary/CUP_analysis.csv', sep=\";\", quoting=1, index=False)"
   ]
  },
  {
   "cell_type": "code",
   "execution_count": null,
   "metadata": {},
   "outputs": [
    {
     "data": {
      "text/plain": [
       "0        False\n",
       "1        False\n",
       "2        False\n",
       "3        False\n",
       "4        False\n",
       "         ...  \n",
       "26570    False\n",
       "26571    False\n",
       "26572    False\n",
       "26573    False\n",
       "26574    False\n",
       "Name: CLASSIFICAZIONE_ISSUE_CUP, Length: 26574, dtype: bool"
      ]
     },
     "execution_count": 36,
     "metadata": {},
     "output_type": "execute_result"
    }
   ],
   "source": [
    "df_DIPE.CLASSIFICAZIONE_ISSUE_CUP==''"
   ]
  },
  {
   "cell_type": "code",
   "execution_count": null,
   "metadata": {},
   "outputs": [
    {
     "data": {
      "text/plain": [
       "26553"
      ]
     },
     "execution_count": 37,
     "metadata": {},
     "output_type": "execute_result"
    }
   ],
   "source": [
    "output = pd.read_csv('../data/01_raw/CUP_output_20230130.csv')\n",
    "output.CODICE_CUP.nunique()"
   ]
  },
  {
   "cell_type": "code",
   "execution_count": null,
   "metadata": {},
   "outputs": [
    {
     "data": {
      "text/plain": [
       "81"
      ]
     },
     "execution_count": 38,
     "metadata": {},
     "output_type": "execute_result"
    }
   ],
   "source": [
    "len(set(set(output.CODICE_CUP.unique())).difference(df_DIPE.CODICE_CUP.unique()))"
   ]
  },
  {
   "cell_type": "code",
   "execution_count": null,
   "metadata": {},
   "outputs": [
    {
     "data": {
      "text/plain": [
       "26472"
      ]
     },
     "execution_count": 39,
     "metadata": {},
     "output_type": "execute_result"
    }
   ],
   "source": [
    "output.CODICE_CUP.nunique() - 81"
   ]
  },
  {
   "cell_type": "code",
   "execution_count": null,
   "metadata": {},
   "outputs": [
    {
     "data": {
      "text/plain": [
       "26553"
      ]
     },
     "execution_count": 40,
     "metadata": {},
     "output_type": "execute_result"
    }
   ],
   "source": [
    "output.CODICE_CUP.nunique()"
   ]
  },
  {
   "cell_type": "code",
   "execution_count": null,
   "metadata": {},
   "outputs": [
    {
     "data": {
      "text/html": [
       "<div>\n",
       "<style scoped>\n",
       "    .dataframe tbody tr th:only-of-type {\n",
       "        vertical-align: middle;\n",
       "    }\n",
       "\n",
       "    .dataframe tbody tr th {\n",
       "        vertical-align: top;\n",
       "    }\n",
       "\n",
       "    .dataframe thead th {\n",
       "        text-align: right;\n",
       "    }\n",
       "</style>\n",
       "<table border=\"1\" class=\"dataframe\">\n",
       "  <thead>\n",
       "    <tr style=\"text-align: right;\">\n",
       "      <th></th>\n",
       "      <th>CODICE_CUP</th>\n",
       "      <th>AVVISO</th>\n",
       "      <th>STATO_CANDIDATURA</th>\n",
       "      <th>SOGGETTO_TITOLARE</th>\n",
       "      <th>DATA_GENERAZIONE</th>\n",
       "      <th>TEMPLATE</th>\n",
       "      <th>COPERTURA_FINANZIARIA</th>\n",
       "      <th>COSTO</th>\n",
       "      <th>FINANZIAMENTO</th>\n",
       "      <th>DESCRIZIONE_AGGREGATA</th>\n",
       "      <th>NATURA</th>\n",
       "      <th>TIPOLOGIA</th>\n",
       "      <th>SETTORE</th>\n",
       "      <th>SOTTOSETTORE</th>\n",
       "      <th>CATEGORIA</th>\n",
       "      <th>STATO_PROGETTO</th>\n",
       "      <th>CUP</th>\n",
       "      <th>CLASSIFICAZIONE_ISSUE_CUP</th>\n",
       "    </tr>\n",
       "  </thead>\n",
       "  <tbody>\n",
       "    <tr>\n",
       "      <th>17278</th>\n",
       "      <td>NaN</td>\n",
       "      <td>1.3.1 Piattaforma Digitale Nazionale Dati - Co...</td>\n",
       "      <td>FINANZIATA</td>\n",
       "      <td>NaN</td>\n",
       "      <td>NaN</td>\n",
       "      <td>NaN</td>\n",
       "      <td>NaN</td>\n",
       "      <td>NaN</td>\n",
       "      <td>NaN</td>\n",
       "      <td>NaN</td>\n",
       "      <td>NaN</td>\n",
       "      <td>NaN</td>\n",
       "      <td>NaN</td>\n",
       "      <td>NaN</td>\n",
       "      <td>NaN</td>\n",
       "      <td>CUP INESISTENTE</td>\n",
       "      <td>NaN</td>\n",
       "      <td>NESSUN PROBLEMA RISCONTRATO AL MOMENTO</td>\n",
       "    </tr>\n",
       "  </tbody>\n",
       "</table>\n",
       "</div>"
      ],
      "text/plain": [
       "      CODICE_CUP                                             AVVISO  \\\n",
       "17278        NaN  1.3.1 Piattaforma Digitale Nazionale Dati - Co...   \n",
       "\n",
       "      STATO_CANDIDATURA SOGGETTO_TITOLARE DATA_GENERAZIONE  TEMPLATE  \\\n",
       "17278        FINANZIATA               NaN              NaN       NaN   \n",
       "\n",
       "      COPERTURA_FINANZIARIA  COSTO  FINANZIAMENTO DESCRIZIONE_AGGREGATA  \\\n",
       "17278                   NaN    NaN            NaN                   NaN   \n",
       "\n",
       "      NATURA TIPOLOGIA SETTORE SOTTOSETTORE CATEGORIA   STATO_PROGETTO  CUP  \\\n",
       "17278    NaN       NaN     NaN          NaN       NaN  CUP INESISTENTE  NaN   \n",
       "\n",
       "                    CLASSIFICAZIONE_ISSUE_CUP  \n",
       "17278  NESSUN PROBLEMA RISCONTRATO AL MOMENTO  "
      ]
     },
     "execution_count": 45,
     "metadata": {},
     "output_type": "execute_result"
    }
   ],
   "source": [
    "df_DIPE[df_DIPE.CODICE_CUP.isna()]"
   ]
  },
  {
   "cell_type": "code",
   "execution_count": null,
   "metadata": {},
   "outputs": [
    {
     "data": {
      "text/plain": [
       "26540"
      ]
     },
     "execution_count": 49,
     "metadata": {},
     "output_type": "execute_result"
    }
   ],
   "source": [
    "df_DIPE.CODICE_CUP.nunique()"
   ]
  },
  {
   "cell_type": "code",
   "execution_count": null,
   "metadata": {},
   "outputs": [
    {
     "data": {
      "text/html": [
       "<div>\n",
       "<style scoped>\n",
       "    .dataframe tbody tr th:only-of-type {\n",
       "        vertical-align: middle;\n",
       "    }\n",
       "\n",
       "    .dataframe tbody tr th {\n",
       "        vertical-align: top;\n",
       "    }\n",
       "\n",
       "    .dataframe thead th {\n",
       "        text-align: right;\n",
       "    }\n",
       "</style>\n",
       "<table border=\"1\" class=\"dataframe\">\n",
       "  <thead>\n",
       "    <tr style=\"text-align: right;\">\n",
       "      <th></th>\n",
       "      <th>CODICE_CUP</th>\n",
       "      <th>DATA RICEZIONE CUP</th>\n",
       "      <th>ENTE</th>\n",
       "      <th>AVVISO</th>\n",
       "      <th>MISURA</th>\n",
       "      <th>FINESTRA TEMPORALE</th>\n",
       "      <th>DATA INIZIO FINESTRA</th>\n",
       "      <th>DATA FINE FINESTRA</th>\n",
       "    </tr>\n",
       "  </thead>\n",
       "  <tbody>\n",
       "    <tr>\n",
       "      <th>0</th>\n",
       "      <td>G91F22002170006</td>\n",
       "      <td>2022-08-08</td>\n",
       "      <td>Comune di Castiglione della Pescaia</td>\n",
       "      <td>1.4.3 - pagoPA - Comuni - Aprile 2022</td>\n",
       "      <td>1.4.3 Adozione PagoPA e AppIO</td>\n",
       "      <td>FINESTRA_21</td>\n",
       "      <td>2022-07-05</td>\n",
       "      <td>2022-08-03</td>\n",
       "    </tr>\n",
       "    <tr>\n",
       "      <th>1</th>\n",
       "      <td>J61F22004400006</td>\n",
       "      <td>2022-11-29</td>\n",
       "      <td>Comune di Girifalco</td>\n",
       "      <td>1.4.3 - pagoPA - Comuni - Settembre 2022</td>\n",
       "      <td>1.4.3 Adozione PagoPA e AppIO</td>\n",
       "      <td>FINESTRA_97</td>\n",
       "      <td>2022-09-12</td>\n",
       "      <td>2022-11-25</td>\n",
       "    </tr>\n",
       "    <tr>\n",
       "      <th>2</th>\n",
       "      <td>F71F22004530006</td>\n",
       "      <td>2022-11-30</td>\n",
       "      <td>Comune di Fogliano Redipuglia</td>\n",
       "      <td>1.4.3 - app IO - Comuni - Settembre 2022</td>\n",
       "      <td>1.4.3 Adozione PagoPA e AppIO</td>\n",
       "      <td>FINESTRA_94</td>\n",
       "      <td>2022-09-12</td>\n",
       "      <td>2022-11-25</td>\n",
       "    </tr>\n",
       "    <tr>\n",
       "      <th>3</th>\n",
       "      <td>C41F22004270006</td>\n",
       "      <td>2022-11-15</td>\n",
       "      <td>Comune di Soleto</td>\n",
       "      <td>1.4.5 \"Piattaforma Notifiche Digitali” Comuni ...</td>\n",
       "      <td>1.4.5 Digitalizzazione degli avvisi pubblici</td>\n",
       "      <td>FINESTRA_93</td>\n",
       "      <td>2022-10-12</td>\n",
       "      <td>2022-11-11</td>\n",
       "    </tr>\n",
       "    <tr>\n",
       "      <th>4</th>\n",
       "      <td>G91F22003850006</td>\n",
       "      <td>2022-11-17</td>\n",
       "      <td>Comune di Acquasparta</td>\n",
       "      <td>1.4.5 \"Piattaforma Notifiche Digitali” Comuni ...</td>\n",
       "      <td>1.4.5 Digitalizzazione degli avvisi pubblici</td>\n",
       "      <td>FINESTRA_93</td>\n",
       "      <td>2022-10-12</td>\n",
       "      <td>2022-11-11</td>\n",
       "    </tr>\n",
       "    <tr>\n",
       "      <th>...</th>\n",
       "      <td>...</td>\n",
       "      <td>...</td>\n",
       "      <td>...</td>\n",
       "      <td>...</td>\n",
       "      <td>...</td>\n",
       "      <td>...</td>\n",
       "      <td>...</td>\n",
       "      <td>...</td>\n",
       "    </tr>\n",
       "    <tr>\n",
       "      <th>26583</th>\n",
       "      <td>I21F22004280006</td>\n",
       "      <td>2022-11-29</td>\n",
       "      <td>Comune di Gualdo Tadino</td>\n",
       "      <td>1.4.3 - pagoPA - Comuni - Settembre 2022</td>\n",
       "      <td>1.4.3 Adozione PagoPA e AppIO</td>\n",
       "      <td>FINESTRA_97</td>\n",
       "      <td>2022-09-12</td>\n",
       "      <td>2022-11-25</td>\n",
       "    </tr>\n",
       "    <tr>\n",
       "      <th>26584</th>\n",
       "      <td>C11F22004790006</td>\n",
       "      <td>2022-11-29</td>\n",
       "      <td>Comune di Vaglio Serra</td>\n",
       "      <td>1.4.3 - app IO - Comuni - Settembre 2022</td>\n",
       "      <td>1.4.3 Adozione PagoPA e AppIO</td>\n",
       "      <td>FINESTRA_94</td>\n",
       "      <td>2022-09-12</td>\n",
       "      <td>2022-11-25</td>\n",
       "    </tr>\n",
       "    <tr>\n",
       "      <th>26585</th>\n",
       "      <td>F51F22006420006</td>\n",
       "      <td>2022-12-23</td>\n",
       "      <td>Comune di Racalmuto</td>\n",
       "      <td>1.3.1 Piattaforma Digitale Nazionale Dati - Co...</td>\n",
       "      <td>1.3.1 Piattaforma Digitale Nazionale Dati</td>\n",
       "      <td>FINESTRA_107</td>\n",
       "      <td>2022-10-20</td>\n",
       "      <td>2022-12-14</td>\n",
       "    </tr>\n",
       "    <tr>\n",
       "      <th>26586</th>\n",
       "      <td>E41F22002830006</td>\n",
       "      <td>2022-09-12</td>\n",
       "      <td>Comune di Malgrate</td>\n",
       "      <td>1.4.3 - app IO - Comuni - Aprile 2022</td>\n",
       "      <td>1.4.3 Adozione PagoPA e AppIO</td>\n",
       "      <td>FINESTRA_17</td>\n",
       "      <td>2022-08-04</td>\n",
       "      <td>2022-09-02</td>\n",
       "    </tr>\n",
       "    <tr>\n",
       "      <th>26587</th>\n",
       "      <td>F31F22002500006</td>\n",
       "      <td>2022-09-13</td>\n",
       "      <td>Ordine delle Professioni Infermieristiche di G...</td>\n",
       "      <td>1.4.4 Adozione SPID CIE-Amministrazioni divers...</td>\n",
       "      <td>1.4.4 Adozione identità digitale</td>\n",
       "      <td>FINESTRA_78</td>\n",
       "      <td>2022-07-29</td>\n",
       "      <td>2022-09-09</td>\n",
       "    </tr>\n",
       "  </tbody>\n",
       "</table>\n",
       "<p>26588 rows × 8 columns</p>\n",
       "</div>"
      ],
      "text/plain": [
       "            CODICE_CUP DATA RICEZIONE CUP  \\\n",
       "0      G91F22002170006         2022-08-08   \n",
       "1      J61F22004400006         2022-11-29   \n",
       "2      F71F22004530006         2022-11-30   \n",
       "3      C41F22004270006         2022-11-15   \n",
       "4      G91F22003850006         2022-11-17   \n",
       "...                ...                ...   \n",
       "26583  I21F22004280006         2022-11-29   \n",
       "26584  C11F22004790006         2022-11-29   \n",
       "26585  F51F22006420006         2022-12-23   \n",
       "26586  E41F22002830006         2022-09-12   \n",
       "26587  F31F22002500006         2022-09-13   \n",
       "\n",
       "                                                    ENTE  \\\n",
       "0                    Comune di Castiglione della Pescaia   \n",
       "1                                    Comune di Girifalco   \n",
       "2                          Comune di Fogliano Redipuglia   \n",
       "3                                       Comune di Soleto   \n",
       "4                                  Comune di Acquasparta   \n",
       "...                                                  ...   \n",
       "26583                            Comune di Gualdo Tadino   \n",
       "26584                             Comune di Vaglio Serra   \n",
       "26585                                Comune di Racalmuto   \n",
       "26586                                 Comune di Malgrate   \n",
       "26587  Ordine delle Professioni Infermieristiche di G...   \n",
       "\n",
       "                                                  AVVISO  \\\n",
       "0                  1.4.3 - pagoPA - Comuni - Aprile 2022   \n",
       "1               1.4.3 - pagoPA - Comuni - Settembre 2022   \n",
       "2               1.4.3 - app IO - Comuni - Settembre 2022   \n",
       "3      1.4.5 \"Piattaforma Notifiche Digitali” Comuni ...   \n",
       "4      1.4.5 \"Piattaforma Notifiche Digitali” Comuni ...   \n",
       "...                                                  ...   \n",
       "26583           1.4.3 - pagoPA - Comuni - Settembre 2022   \n",
       "26584           1.4.3 - app IO - Comuni - Settembre 2022   \n",
       "26585  1.3.1 Piattaforma Digitale Nazionale Dati - Co...   \n",
       "26586              1.4.3 - app IO - Comuni - Aprile 2022   \n",
       "26587  1.4.4 Adozione SPID CIE-Amministrazioni divers...   \n",
       "\n",
       "                                             MISURA FINESTRA TEMPORALE  \\\n",
       "0                     1.4.3 Adozione PagoPA e AppIO        FINESTRA_21   \n",
       "1                     1.4.3 Adozione PagoPA e AppIO        FINESTRA_97   \n",
       "2                     1.4.3 Adozione PagoPA e AppIO        FINESTRA_94   \n",
       "3      1.4.5 Digitalizzazione degli avvisi pubblici        FINESTRA_93   \n",
       "4      1.4.5 Digitalizzazione degli avvisi pubblici        FINESTRA_93   \n",
       "...                                             ...                ...   \n",
       "26583                 1.4.3 Adozione PagoPA e AppIO        FINESTRA_97   \n",
       "26584                 1.4.3 Adozione PagoPA e AppIO        FINESTRA_94   \n",
       "26585     1.3.1 Piattaforma Digitale Nazionale Dati       FINESTRA_107   \n",
       "26586                 1.4.3 Adozione PagoPA e AppIO        FINESTRA_17   \n",
       "26587              1.4.4 Adozione identità digitale        FINESTRA_78   \n",
       "\n",
       "      DATA INIZIO FINESTRA DATA FINE FINESTRA  \n",
       "0               2022-07-05         2022-08-03  \n",
       "1               2022-09-12         2022-11-25  \n",
       "2               2022-09-12         2022-11-25  \n",
       "3               2022-10-12         2022-11-11  \n",
       "4               2022-10-12         2022-11-11  \n",
       "...                    ...                ...  \n",
       "26583           2022-09-12         2022-11-25  \n",
       "26584           2022-09-12         2022-11-25  \n",
       "26585           2022-10-20         2022-12-14  \n",
       "26586           2022-08-04         2022-09-02  \n",
       "26587           2022-07-29         2022-09-09  \n",
       "\n",
       "[26588 rows x 8 columns]"
      ]
     },
     "execution_count": 50,
     "metadata": {},
     "output_type": "execute_result"
    }
   ],
   "source": [
    "output."
   ]
  },
  {
   "cell_type": "code",
   "execution_count": null,
   "metadata": {},
   "outputs": [],
   "source": []
  }
 ],
 "metadata": {
  "kernelspec": {
   "display_name": "Python 3.9.12 ('base')",
   "language": "python",
   "name": "python3"
  },
  "language_info": {
   "codemirror_mode": {
    "name": "ipython",
    "version": 3
   },
   "file_extension": ".py",
   "mimetype": "text/x-python",
   "name": "python",
   "nbconvert_exporter": "python",
   "pygments_lexer": "ipython3",
   "version": "3.11.0"
  },
  "orig_nbformat": 4,
  "vscode": {
   "interpreter": {
    "hash": "2ea42b739dbf7a01eee024ea60961392dae073cf9cc22e8cda06314b50f7f022"
   }
  }
 },
 "nbformat": 4,
 "nbformat_minor": 2
}
