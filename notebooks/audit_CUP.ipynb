{
 "cells": [
  {
   "cell_type": "code",
   "execution_count": 2,
   "metadata": {},
   "outputs": [],
   "source": [
    "import pandas as pd\n",
    "import os\n",
    "pd.options.display.max_columns = 200"
   ]
  },
  {
   "cell_type": "markdown",
   "metadata": {},
   "source": [
    "# Istruzioni\n",
    "\n",
    "Per effettuare il controllo CUP è sufficiente salvare i dati nelle corrette cartelle e poi eseguire direttamente tutto il notebook. \n",
    "\n",
    "## Input\n",
    "\n",
    "- **Output DIPE**: salvare i file di output forniti dal DIPE nella cartella '01_raw/CUP'\n",
    "- **Dati Opencoesione**: salvare l'estrazione dei dati OpenCoesione, in formato .zip, nella cartella '01_raw' [(vedi qui - link)](https://opencoesione.gov.it/it/progetti/?q=&selected_facets=is_pubblicato:0&selected_facets=is_pubblicato:1&selected_facets=is_pubblicato:2)\n",
    "- **Estrazione CUP**: salvare un'estrazione dei CUP da PAdigitale (dall'omonimo report Estrazione CUP) nella cartella '01_raw'"
   ]
  },
  {
   "cell_type": "code",
   "execution_count": 3,
   "metadata": {},
   "outputs": [],
   "source": [
    "DIRNAME = '../data/01_raw/CUP'\n",
    "\n",
    "dfs = []\n",
    "lenghts = []\n",
    "for filename in os.listdir(DIRNAME):\n",
    "    if filename.endswith('.xlsx'):\n",
    "        with pd.ExcelFile(os.path.join(DIRNAME, filename)) as fl:\n",
    "            data = pd.read_excel(fl,sheet_name=0, header=0).copy()\n",
    "            dfs.append(data)\n",
    "            lenghts.append(len(data))\n",
    "df = pd.concat(dfs, axis = 0, ignore_index=True).drop_duplicates()\n",
    "df.to_csv('../data/02_primary/CUP_feedback.parquet', index=False, quoting=1)"
   ]
  },
  {
   "cell_type": "code",
   "execution_count": 3,
   "metadata": {},
   "outputs": [
    {
     "name": "stdout",
     "output_type": "stream",
     "text": [
      "<class 'pandas.core.frame.DataFrame'>\n",
      "Int64Index: 16021 entries, 0 to 16020\n",
      "Data columns (total 15 columns):\n",
      " #   Column                 Non-Null Count  Dtype         \n",
      "---  ------                 --------------  -----         \n",
      " 0   CODICE_CUP             16021 non-null  object        \n",
      " 1   SOGGETTO_TITOLARE      16021 non-null  object        \n",
      " 2   DATA_GENERAZIONE       16021 non-null  datetime64[ns]\n",
      " 3   TEMPLATE               15618 non-null  float64       \n",
      " 4   COPERTURA_FINANZIARIA  16021 non-null  object        \n",
      " 5   LOCALIZZAZIONE         16021 non-null  object        \n",
      " 6   COSTO                  16021 non-null  int64         \n",
      " 7   FINANZIAMENTO          16021 non-null  int64         \n",
      " 8   DESCRIZIONE_AGGREGATA  16021 non-null  object        \n",
      " 9   NATURA                 16021 non-null  object        \n",
      " 10  TIPOLOGIA              16021 non-null  object        \n",
      " 11  SETTORE                16021 non-null  object        \n",
      " 12  SOTTOSETTORE           16021 non-null  object        \n",
      " 13  CATEGORIA              16021 non-null  object        \n",
      " 14  STATO_PROGETTO         16021 non-null  object        \n",
      "dtypes: datetime64[ns](1), float64(1), int64(2), object(11)\n",
      "memory usage: 2.0+ MB\n"
     ]
    }
   ],
   "source": [
    "df.info()"
   ]
  },
  {
   "cell_type": "code",
   "execution_count": 3,
   "metadata": {},
   "outputs": [],
   "source": [
    "FILENAME_OPENCOESIONE = 'progetti_esteso_20230430.zip'\n",
    "\n",
    "\n",
    "df_OC = pd.read_csv(\n",
    "    '../data/01_raw/'+FILENAME_OPENCOESIONE,\n",
    "    compression='zip', \n",
    "    sep=';',\n",
    "    quotechar='\"', \n",
    "    low_memory=False, \n",
    "    usecols=['COD_LOCALE_PROGETTO','CUP','OC_TITOLO_PROGETTO','OC_DESCR_CICLO','OC_COD_CICLO','OC_TEMA_SINTETICO','FONDO_COMUNITARIO','OC_CODICE_PROGRAMMA','OC_DESCRIZIONE_PROGRAMMA','COD_STRUMENTO','DESCR_STRUMENTO','OC_STATO_FINANZIARIO','OC_STATO_PROGETTO','OC_STATO_PROCEDURALE'],\n",
    "    header=0,\n",
    "    #nrows=10\n",
    "    )"
   ]
  },
  {
   "cell_type": "code",
   "execution_count": 6,
   "metadata": {},
   "outputs": [
    {
     "data": {
      "text/plain": [
       "1374455"
      ]
     },
     "execution_count": 6,
     "metadata": {},
     "output_type": "execute_result"
    }
   ],
   "source": [
    "df_OC.CUP.nunique()"
   ]
  },
  {
   "cell_type": "code",
   "execution_count": 17,
   "metadata": {},
   "outputs": [
    {
     "name": "stderr",
     "output_type": "stream",
     "text": [
      "/Users/rauldemaio/opt/anaconda3/envs/controllo_cup/lib/python3.11/site-packages/openpyxl/styles/stylesheet.py:226: UserWarning: Workbook contains no default style, apply openpyxl's default\n",
      "  warn(\"Workbook contains no default style, apply openpyxl's default\")\n",
      "/Users/rauldemaio/opt/anaconda3/envs/controllo_cup/lib/python3.11/site-packages/openpyxl/styles/stylesheet.py:226: UserWarning: Workbook contains no default style, apply openpyxl's default\n",
      "  warn(\"Workbook contains no default style, apply openpyxl's default\")\n"
     ]
    },
    {
     "name": "stdout",
     "output_type": "stream",
     "text": [
      "<class 'pandas.core.frame.DataFrame'>\n",
      "Int64Index: 16048 entries, 0 to 16047\n",
      "Data columns (total 4 columns):\n",
      " #   Column                                 Non-Null Count  Dtype \n",
      "---  ------                                 --------------  ----- \n",
      " 0   CODICE_CUP                             16048 non-null  object\n",
      " 1   NOME_DECRETO                           16048 non-null  object\n",
      " 2   MISURA                                 16034 non-null  object\n",
      " 3   APPLYING_ORGANIZATION:_TIPOLOGIA_ENTE  16034 non-null  object\n",
      "dtypes: object(4)\n",
      "memory usage: 626.9+ KB\n"
     ]
    }
   ],
   "source": [
    "FILE_PAD26 = 'Estrazione CUP-2023-07-17-16-57-41.xlsx'\n",
    "FILE_TMP = 'Estrazione CUP-2023-07-19-09-01-50.xlsx'\n",
    "with pd.ExcelFile(os.path.join('../data/01_raw', FILE_PAD26)) as fl:\n",
    "    df_pad2026 = pd.read_excel(fl,sheet_name=0).copy() \n",
    "\n",
    "\n",
    "# COMPONENTE SPECIALE OCCASIONALE PER RIPORTARE MISURA E TIPOLOGIA ENTE\n",
    "with pd.ExcelFile(os.path.join('../data/01_raw', FILE_TMP)) as fl:\n",
    "    tmp_df = pd.read_excel(fl,sheet_name=0).copy() \n",
    "df_pad2026.columns = [col.upper().replace(' ','_') for col in df_pad2026.columns]\n",
    "tmp_df.columns = [col.upper().replace(' ','_') for col in tmp_df.columns]\n",
    "df_pad2026 = df_pad2026.merge(tmp_df.drop_duplicates(subset='CODICE_CUP'), how='left', on=['CODICE_CUP','NOME_DECRETO'])\n",
    "\n",
    "df_pad2026.info()\n"
   ]
  },
  {
   "cell_type": "code",
   "execution_count": 18,
   "metadata": {},
   "outputs": [],
   "source": [
    "assert df.CODICE_CUP.duplicated().sum()==0\n",
    "\n",
    "tmp_df = df_pad2026.merge(df, on='CODICE_CUP', how='left').copy()\n",
    "assert len(tmp_df)==len(df_pad2026)"
   ]
  },
  {
   "cell_type": "code",
   "execution_count": 19,
   "metadata": {},
   "outputs": [],
   "source": [
    "# print(len(df_pad2026))\n",
    "# print(tmp_df.info())\n",
    "# print(tmp_df.STATO_PROGETTO.value_counts())\n",
    "tmp_df.loc[tmp_df.STATO_PROGETTO.isna(),'STATO_PROGETTO'] = 'CUP INESISTENTE'"
   ]
  },
  {
   "attachments": {},
   "cell_type": "markdown",
   "metadata": {},
   "source": [
    "# Controlli da fare\n",
    "\n",
    "Di seguito vengono fatti i seguenti controlli, in ordine di priorità:\n",
    "\n",
    "1. CUP PNRR in OpenCoesione\n",
    "2. CUP duplicato nel PNRR\n",
    "3. CUP non esistente nei sistemi DIPE\n",
    "4. CUP senza template\n",
    "5. CUP template diverso\n"
   ]
  },
  {
   "cell_type": "code",
   "execution_count": 20,
   "metadata": {},
   "outputs": [],
   "source": [
    "# concateno dataset da OpenCoesione (OC)\n",
    "# df_OC = pd.concat([df_OC, df_OC2]).copy()\n",
    "\n",
    "df_OC = df_OC.drop_duplicates(subset='CUP',keep='last').copy()"
   ]
  },
  {
   "cell_type": "code",
   "execution_count": 26,
   "metadata": {},
   "outputs": [
    {
     "data": {
      "text/plain": [
       "{'Decreto n.125 - 2 / 2022 - PNRR': 2203004.0,\n",
       " 'Decreto n.125 - 3 / 2022 - PNRR': 2203004.0,\n",
       " 'Decreto n.126 - 1 / 2022 - PNRR': 2205011.0,\n",
       " 'Decreto n.126 - 2 / 2022 - PNRR': 2205011.0,\n",
       " 'Decreto n.127 - 2 / 2022 - PNRR': 2203007.0,\n",
       " 'Decreto n.127 - 3 / 2022 - PNRR': 2203007.0,\n",
       " 'Decreto n.128 - 1 / 2022 - PNRR': 2205010.0,\n",
       " 'Decreto n.128 - 2 / 2022 - PNRR': 2205010.0,\n",
       " 'Decreto n.129 - 2 / 2022 - PNRR': 2203006.0,\n",
       " 'Decreto n.129 - 3 / 2022 - PNRR': 2203006.0,\n",
       " 'Decreto n.130 - 1 / 2022 - PNRR': 2205009.0,\n",
       " 'Decreto n.130 - 2 / 2022 - PNRR': 2205009.0,\n",
       " 'Decreto n.152 - 2 / 2022 - PNRR': 2210002.0,\n",
       " 'Decreto n.152 - 3 / 2022 - PNRR': 2210002.0,\n",
       " 'Decreto n.166 - 1 / 2022 - PNRR': 2204006.0,\n",
       " 'Decreto n.166 - 2 / 2022 - PNRR': 2204006.0,\n",
       " 'Decreto n.166 - 3 / 2022 - PNRR': 2204006.0,\n",
       " 'Decreto n.167 - 1 / 2022 - PNRR': 2204005.0,\n",
       " 'Decreto n.167 - 2 / 2022 - PNRR': 2204005.0,\n",
       " 'Decreto n.175 - 1 / 2022 - PNRR': 2212001.0,\n",
       " 'Decreto n.175 - 2 / 2022 - PNRR': 2212001.0,\n",
       " 'Decreto n.194 - 1 / 2022 - PNRR': 2212002.0,\n",
       " 'Decreto n.48 - 1 / 2023 - PNRR': 2212002.0,\n",
       " 'Decreto n.48 - 2 / 2023 - PNRR': 2303001.0,\n",
       " 'Decreto n.48 - 3 / 2023 - PNRR': 2303001.0,\n",
       " 'Decreto n.66 - 1 / 2023 - PNRR': 2203007.0,\n",
       " 'Decreto n.85 - 4 / 2022 - PNRR': 2203003.0,\n",
       " 'Decreto n.85 - 5 / 2022 - PNRR': 2203003.0}"
      ]
     },
     "execution_count": 26,
     "metadata": {},
     "output_type": "execute_result"
    }
   ],
   "source": []
  },
  {
   "cell_type": "code",
   "execution_count": 28,
   "metadata": {},
   "outputs": [],
   "source": [
    "# Primi check\n",
    "\n",
    "\n",
    "## CUP double funding\n",
    "DOUBLE_FUNDING_CUP = pd.merge( df_OC['CUP'], tmp_df['CODICE_CUP'], left_on ='CUP', right_on= 'CODICE_CUP',how='inner',validate=\"1:m\").CUP.unique()\n",
    "## CUP double project\n",
    "DOUBLE_REQUEST_CUP = tmp_df.groupby(by = 'CODICE_CUP').filter(lambda x: len(x)>1).sort_values(by='CODICE_CUP').CODICE_CUP.unique()\n",
    "## CUP non esistente nei sistemi DIPE\n",
    "MISSING_CUP = tmp_df[tmp_df.STATO_PROGETTO=='CUP INESISTENTE'].CODICE_CUP.unique()\n",
    "## Template mancante\n",
    "MISSING_TEMPLATE = tmp_df[tmp_df.TEMPLATE.isna()].CODICE_CUP.unique()\n",
    "#Template errato\n",
    "\n",
    "map_sheet2template = tmp_df[['NOME_DECRETO','TEMPLATE']].groupby(['NOME_DECRETO']).TEMPLATE.agg(pd.Series.mode).to_dict()\n",
    "\n",
    "# map_sheet2template['1.4.4 Altri Enti FINESTRA_76'] = 20220511\n",
    "# map_sheet2template['1.4.3 Altri Enti App IOFINESTRA'] = 20220509\n",
    "# map_sheet2template[ '1.4.3 pagoPA Altri EntiFINESTRA'] = 20220510\n",
    "\n",
    "WRONG_TEMPLATE = [] \n",
    "WRONG_TEMPLATE = tmp_df[tmp_df.NOME_DECRETO.replace(map_sheet2template) != tmp_df.TEMPLATE].CODICE_CUP.unique()"
   ]
  },
  {
   "cell_type": "code",
   "execution_count": 30,
   "metadata": {},
   "outputs": [],
   "source": [
    "def classify_CUP(CUP: str):\n",
    "    '''\n",
    "    Funzione per produrre una semplice classificazione dei CUP secondo una scala di priorità:\n",
    "    1. CUP PNRR in OpenCoesione\n",
    "    2. CUP duplicato nel PNRR\n",
    "    3. CUP non esistente nei sistemi DIPE\n",
    "    4. CUP senza template\n",
    "    5. CUP template diverso\n",
    "    '''\n",
    "\n",
    "    if CUP in DOUBLE_FUNDING_CUP:\n",
    "        return 'CUP già presente in OPEN COESIONE'\n",
    "    elif CUP in MISSING_CUP:\n",
    "        return 'CUP NON PRESENTE NEL FEEDBACK DIPE'\n",
    "    elif CUP in DOUBLE_REQUEST_CUP:\n",
    "        return \"CUP PRESENTE IN PIU' CANDIDATURE\"\n",
    "    elif CUP in MISSING_TEMPLATE:\n",
    "        return 'TEMPLATE MANCANTE'\n",
    "    elif CUP in WRONG_TEMPLATE:\n",
    "        return 'POSSIBILE TEMPLATE ERRATO'\n",
    "    else:\n",
    "        return 'NESSUN PROBLEMA RISCONTRATO AL MOMENTO'"
   ]
  },
  {
   "cell_type": "code",
   "execution_count": 32,
   "metadata": {},
   "outputs": [],
   "source": [
    "# applica classificazione\n",
    "tmp_df['CLASSIFICAZIONE_ISSUE_CUP']  = tmp_df.CODICE_CUP.apply(classify_CUP)"
   ]
  },
  {
   "cell_type": "code",
   "execution_count": 33,
   "metadata": {},
   "outputs": [
    {
     "name": "stdout",
     "output_type": "stream",
     "text": [
      "16048\n",
      "16048\n"
     ]
    },
    {
     "data": {
      "text/plain": [
       "CLASSIFICAZIONE_ISSUE_CUP\n",
       "CUP NON PRESENTE NEL FEEDBACK DIPE           26\n",
       "CUP PRESENTE IN PIU' CANDIDATURE              2\n",
       "CUP già presente in OPEN COESIONE             1\n",
       "NESSUN PROBLEMA RISCONTRATO AL MOMENTO    15316\n",
       "POSSIBILE TEMPLATE ERRATO                   301\n",
       "TEMPLATE MANCANTE                           402\n",
       "Name: CODICE_CUP, dtype: int64"
      ]
     },
     "execution_count": 33,
     "metadata": {},
     "output_type": "execute_result"
    }
   ],
   "source": [
    "print(tmp_df.CODICE_CUP.count())\n",
    "print(len(df_pad2026))\n",
    "#crea aggregati\n",
    "tmp_df.groupby(by=['CLASSIFICAZIONE_ISSUE_CUP']).CODICE_CUP.count()"
   ]
  },
  {
   "cell_type": "code",
   "execution_count": 35,
   "metadata": {},
   "outputs": [],
   "source": [
    "tmp_df.to_excel('../data/02_primary/CUP_ANALYSIS.xlsx', index=False)"
   ]
  },
  {
   "cell_type": "code",
   "execution_count": null,
   "metadata": {},
   "outputs": [],
   "source": []
  }
 ],
 "metadata": {
  "kernelspec": {
   "display_name": "Python 3.9.12 ('base')",
   "language": "python",
   "name": "python3"
  },
  "language_info": {
   "codemirror_mode": {
    "name": "ipython",
    "version": 3
   },
   "file_extension": ".py",
   "mimetype": "text/x-python",
   "name": "python",
   "nbconvert_exporter": "python",
   "pygments_lexer": "ipython3",
   "version": "3.11.0"
  },
  "orig_nbformat": 4,
  "vscode": {
   "interpreter": {
    "hash": "2ea42b739dbf7a01eee024ea60961392dae073cf9cc22e8cda06314b50f7f022"
   }
  }
 },
 "nbformat": 4,
 "nbformat_minor": 2
}
